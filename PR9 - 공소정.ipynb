{
 "cells": [
  {
   "cell_type": "code",
   "execution_count": 1,
   "id": "ad5a1728",
   "metadata": {},
   "outputs": [],
   "source": [
    "from urllib import request"
   ]
  },
  {
   "cell_type": "code",
   "execution_count": 5,
   "id": "9a17f47e",
   "metadata": {},
   "outputs": [
    {
     "name": "stdout",
     "output_type": "stream",
     "text": [
      "저장되었습니다\n"
     ]
    }
   ],
   "source": [
    "url=\"https://t1.daumcdn.net/movie/56e58d88507f1668b65f853e2b8d5ec311f84285\"\n",
    "savename=\"pr9.png\"\n",
    "\n",
    "request.urlretrieve(url, savename)\n",
    "print(\"저장되었습니다\")"
   ]
  },
  {
   "cell_type": "code",
   "execution_count": 7,
   "id": "7d59d47a",
   "metadata": {},
   "outputs": [],
   "source": [
    "from bs4 import BeautifulSoup"
   ]
  },
  {
   "cell_type": "code",
   "execution_count": 8,
   "id": "b97b6eaa",
   "metadata": {},
   "outputs": [],
   "source": [
    "html = \"\"\"\n",
    "<html><body>\n",
    "  <h1>스크레이핑이란?</h1>\n",
    "  <p>웹 페이지를 분석하는 것</p>\n",
    "  <p>원하는 부분을 추출하는 것</p>\n",
    "</body></html>\n",
    "\"\"\""
   ]
  },
  {
   "cell_type": "code",
   "execution_count": 15,
   "id": "7a67941f",
   "metadata": {},
   "outputs": [
    {
     "name": "stdout",
     "output_type": "stream",
     "text": [
      "스크레이핑이란?\n",
      "[<p>웹 페이지를 분석하는 것</p>, <p>원하는 부분을 추출하는 것</p>]\n",
      "웹 페이지를 분석하는 것\n",
      "원하는 부분을 추출하는 것\n"
     ]
    }
   ],
   "source": [
    "soup = BeautifulSoup(html, 'html.parser')\n",
    "title=soup.find(\"h1\")\n",
    "print(title.string)\n",
    "pas=soup.find_all(\"p\")\n",
    "print(pas)\n",
    "for k in pas:\n",
    "    print(k.string)"
   ]
  },
  {
   "cell_type": "code",
   "execution_count": 16,
   "id": "788bf313",
   "metadata": {},
   "outputs": [],
   "source": [
    "url = \"https://finance.naver.com/marketindex/\"\n",
    "res = request.urlopen(url)"
   ]
  },
  {
   "cell_type": "code",
   "execution_count": 17,
   "id": "51154a4a",
   "metadata": {},
   "outputs": [],
   "source": [
    "soup = BeautifulSoup(res, \"html.parser\")"
   ]
  },
  {
   "cell_type": "code",
   "execution_count": 21,
   "id": "a6fb8b3d",
   "metadata": {},
   "outputs": [
    {
     "name": "stdout",
     "output_type": "stream",
     "text": [
      "usd/krw = 1,257.50\n",
      "change = 5.50\n"
     ]
    }
   ],
   "source": [
    "price = soup.select_one(\"div.head_info > span.value\").string\n",
    "print(\"usd/krw =\", price)\n",
    "change = soup.select_one(\"div.head_info > span.change\").string\n",
    "print(\"change =\", change)"
   ]
  },
  {
   "cell_type": "code",
   "execution_count": 27,
   "id": "7a89e492",
   "metadata": {},
   "outputs": [
    {
     "name": "stdout",
     "output_type": "stream",
     "text": [
      "하늘과 바람과 별과 시\n",
      "증보판\n",
      "서시\n",
      "자화상\n",
      "소년\n",
      "눈 오는 지도\n",
      "돌아와 보는 밤\n",
      "병원\n",
      "새로운 길\n",
      "간판 없는 거리\n",
      "태초의 아침\n",
      "또 태초의 아침\n",
      "새벽이 올 때까지\n",
      "무서운 시간\n",
      "십자가\n",
      "바람이 불어\n",
      "슬픈 족속\n",
      "눈감고 간다\n",
      "또 다른 고향\n",
      "길\n",
      "별 헤는 밤\n",
      "흰 그림자\n",
      "사랑스런 추억\n",
      "흐르는 거리\n",
      "쉽게 씌어진 시\n",
      "봄\n",
      "참회록\n",
      "간(肝)\n",
      "위로\n",
      "팔복\n",
      "못자는밤\n",
      "달같이\n",
      "고추밭\n",
      "아우의 인상화\n",
      "사랑의 전당\n",
      "이적\n",
      "비오는 밤\n",
      "산골물\n",
      "유언\n",
      "창\n",
      "바다\n",
      "비로봉\n",
      "산협의 오후\n",
      "명상\n",
      "소낙비\n",
      "한난계\n",
      "풍경\n",
      "달밤\n",
      "장\n",
      "밤\n",
      "황혼이 바다가 되어\n",
      "아침\n",
      "빨래\n",
      "꿈은 깨어지고\n",
      "산림\n",
      "이런날\n",
      "산상\n",
      "양지쪽\n",
      "닭\n",
      "가슴 1\n",
      "가슴 2\n",
      "비둘기\n",
      "황혼\n",
      "남쪽 하늘\n",
      "창공\n",
      "거리에서\n",
      "삶과 죽음\n",
      "초한대\n",
      "산울림\n",
      "해바라기 얼굴\n",
      "귀뚜라미와 나와\n",
      "애기의 새벽\n",
      "햇빛·바람\n",
      "반디불\n",
      "둘 다\n",
      "거짓부리\n",
      "눈\n",
      "참새\n",
      "버선본\n",
      "편지\n",
      "봄\n",
      "무얼 먹구 사나\n",
      "굴뚝\n",
      "햇비\n",
      "빗자루\n",
      "기왓장 내외\n",
      "오줌싸개 지도\n",
      "병아리\n",
      "조개껍질\n",
      "겨울\n",
      "트루게네프의 언덕\n",
      "달을 쏘다\n",
      "별똥 떨어진 데\n",
      "화원에 꽃이 핀다\n",
      "종시\n"
     ]
    }
   ],
   "source": [
    "url = \"https://ko.wikisource.org/wiki/%EC%A0%80%EC%9E%90:%EC%9C%A4%EB%8F%99%EC%A3%BC\"\n",
    "res = request.urlopen(url)\n",
    "soup = BeautifulSoup(res, \"html.parser\")\n",
    "\n",
    "titles=soup.select(\"#mw-content-text ul > li a\")\n",
    "for k in titles :\n",
    "    print(k.string)"
   ]
  },
  {
   "cell_type": "code",
   "execution_count": 32,
   "id": "17cfde8f",
   "metadata": {},
   "outputs": [
    {
     "name": "stdout",
     "output_type": "stream",
     "text": [
      "\n",
      "                                    아이 안고 비 맞으며..중남미 이민자들 \"미국으로\" 왜?\n",
      "                                \n",
      "\n",
      "                                    \"캄보디아에 중국 해군 기지 건설 임박\".. 미국 인·태 그물망 '큰 구멍'\n",
      "                                \n",
      "\n",
      "                                    \"文 전 대통령 댓글로 시작\" \"적법한 국정 실천\"..월성1호 첫 공판\n",
      "                                \n",
      "\n",
      "                                    공항은 열었지만 직원이 없어..유럽여행 가시는 분 참고하세요\n",
      "                                \n",
      "\n",
      "                                    삼성가 유골..다른 곳도 공동묘지\n",
      "                                \n",
      "\n",
      "                                    이번엔 '공격 편대' 경고..F-35A 등 전투기 20대 출격\n",
      "                                \n",
      "\n",
      "                                    北, 빠르면 일주일 안에 '핵 단추' 누른다.. '초읽기' 들어간 7차 핵실험\n",
      "                                \n",
      "\n",
      "                                    \"7년 전 숨진 고 일병 사건, 가혹행위·은폐 있었다\" 폭로\n",
      "                                \n",
      "\n",
      "                                    2년 5개월 만에 입영식 재개..얼굴 보고 군대 보낸다\n",
      "                                \n",
      "\n",
      "                                    회식 줄자 '사무실 성희롱' 늘어..10명 중 7명 \"참는다\"\n",
      "                                \n",
      "\n",
      "                                    국회 복귀 첫날, 말 아낀 안철수..당권 싸움 '본격화'\n",
      "                                \n",
      "\n",
      "                                    음식물 분쇄기 불법 만연..법안도 갈팡질팡[뉴있저]\n",
      "                                \n",
      "\n",
      "                                    가장 두려워하는 스텔스 전투기까지..이번엔 공중에서 북한에 맞대응\n",
      "                                \n",
      "\n",
      "                                    3년 한시적 도입 '안전운임제'..\"노사 타협 어려울 듯\"\n",
      "                                \n",
      "\n",
      "                                    \"과속·과적 줄어\" vs \"효과 불분명\"..안전운임제 쟁점?\n",
      "                                \n",
      "\n",
      "                                    미사일 맞불 이어..한·미,'전투기 20대' 띄우며 무력시위\n",
      "                                \n",
      "\n",
      "                                    무료급식소 찾아가 보니..\"제육볶음 부족해 콩나물무침\"\n",
      "                                \n",
      "\n",
      "                                    전세계 원숭이두창 확진 1000명..커지는 유입 우려\n",
      "                                \n",
      "\n",
      "                                    화물연대 오늘 무기한 파업 돌입..물류 차질 불가피\n",
      "                                \n",
      "\n",
      "                                    독일 장관 \"러시아, 우크라 문화적 정체성 공격\"..문화유산 파괴 비판\n",
      "                                \n"
     ]
    }
   ],
   "source": [
    "url = \"https://news.daum.net/\"\n",
    "\n",
    "res = request.urlopen(url)\n",
    "soup = BeautifulSoup(res, \"html.parser\")\n",
    "\n",
    "selector = \"body > div.container-doc > main > section > div > div.content-article > div.box_g.box_news_issue > ul > li > div > div > strong > a\" # 선택자를 작성해주세요. \n",
    "# a.link_txt\n",
    "\n",
    "for a in soup.select(selector):\n",
    "    title = a.text\n",
    "    print(title)\n"
   ]
  },
  {
   "cell_type": "code",
   "execution_count": 35,
   "id": "6bfc4be5",
   "metadata": {},
   "outputs": [
    {
     "name": "stdout",
     "output_type": "stream",
     "text": [
      "Requirement already satisfied: pyautogui in c:\\users\\thwjd\\anaconda3\\lib\\site-packages (0.9.53)\n",
      "Requirement already satisfied: PyTweening>=1.0.1 in c:\\users\\thwjd\\anaconda3\\lib\\site-packages (from pyautogui) (1.0.4)\n",
      "Requirement already satisfied: pygetwindow>=0.0.5 in c:\\users\\thwjd\\anaconda3\\lib\\site-packages (from pyautogui) (0.0.9)\n",
      "Requirement already satisfied: pyscreeze>=0.1.21 in c:\\users\\thwjd\\anaconda3\\lib\\site-packages (from pyautogui) (0.1.28)\n",
      "Requirement already satisfied: pymsgbox in c:\\users\\thwjd\\anaconda3\\lib\\site-packages (from pyautogui) (1.0.9)\n",
      "Requirement already satisfied: mouseinfo in c:\\users\\thwjd\\anaconda3\\lib\\site-packages (from pyautogui) (0.1.3)\n",
      "Requirement already satisfied: pyrect in c:\\users\\thwjd\\anaconda3\\lib\\site-packages (from pygetwindow>=0.0.5->pyautogui) (0.2.0)\n",
      "Requirement already satisfied: pyperclip in c:\\users\\thwjd\\anaconda3\\lib\\site-packages (from mouseinfo->pyautogui) (1.8.2)\n"
     ]
    }
   ],
   "source": [
    "!pip install pyautogui"
   ]
  },
  {
   "cell_type": "code",
   "execution_count": 37,
   "id": "8ee7e1e2",
   "metadata": {},
   "outputs": [
    {
     "name": "stdout",
     "output_type": "stream",
     "text": [
      "Size(width=1920, height=1080)\n"
     ]
    }
   ],
   "source": [
    "import pyautogui\n",
    "\n",
    "display_size = pyautogui.size()\n",
    "print(display_size)"
   ]
  },
  {
   "cell_type": "code",
   "execution_count": 40,
   "id": "a0e2bdf4",
   "metadata": {},
   "outputs": [],
   "source": [
    "pyautogui.moveTo(display_size[0]/2, display_size[1]/2, duration=3) "
   ]
  },
  {
   "cell_type": "code",
   "execution_count": 43,
   "id": "a18f839e",
   "metadata": {},
   "outputs": [
    {
     "data": {
      "text/plain": [
       "Point(x=895, y=106)"
      ]
     },
     "execution_count": 43,
     "metadata": {},
     "output_type": "execute_result"
    }
   ],
   "source": [
    "pyautogui.position() # 상단 W3Schools Online로 이동"
   ]
  },
  {
   "cell_type": "code",
   "execution_count": 45,
   "id": "7b8956f1",
   "metadata": {},
   "outputs": [],
   "source": [
    "pyautogui.moveTo(895, 106, 1) \n",
    "pyautogui.click()"
   ]
  },
  {
   "cell_type": "code",
   "execution_count": 47,
   "id": "c78fa953",
   "metadata": {},
   "outputs": [
    {
     "data": {
      "text/plain": [
       "Point(x=1039, y=348)"
      ]
     },
     "execution_count": 47,
     "metadata": {},
     "output_type": "execute_result"
    }
   ],
   "source": [
    "pyautogui.position()"
   ]
  },
  {
   "cell_type": "code",
   "execution_count": 48,
   "id": "20e32871",
   "metadata": {},
   "outputs": [],
   "source": [
    "pyautogui.click(1039,348)\n",
    "pyautogui.typewrite('hello~~~~~')"
   ]
  },
  {
   "cell_type": "code",
   "execution_count": 50,
   "id": "4d9ca30e",
   "metadata": {},
   "outputs": [
    {
     "name": "stdout",
     "output_type": "stream",
     "text": [
      "Requirement already satisfied: selenium in c:\\users\\thwjd\\anaconda3\\lib\\site-packages (4.2.0)\n",
      "Requirement already satisfied: trio~=0.17 in c:\\users\\thwjd\\anaconda3\\lib\\site-packages (from selenium) (0.20.0)\n",
      "Requirement already satisfied: trio-websocket~=0.9 in c:\\users\\thwjd\\anaconda3\\lib\\site-packages (from selenium) (0.9.2)\n",
      "Requirement already satisfied: urllib3[secure,socks]~=1.26 in c:\\users\\thwjd\\anaconda3\\lib\\site-packages (from selenium) (1.26.7)\n",
      "Requirement already satisfied: outcome in c:\\users\\thwjd\\anaconda3\\lib\\site-packages (from trio~=0.17->selenium) (1.1.0)\n",
      "Requirement already satisfied: sortedcontainers in c:\\users\\thwjd\\anaconda3\\lib\\site-packages (from trio~=0.17->selenium) (2.4.0)\n",
      "Requirement already satisfied: attrs>=19.2.0 in c:\\users\\thwjd\\anaconda3\\lib\\site-packages (from trio~=0.17->selenium) (21.2.0)\n",
      "Requirement already satisfied: cffi>=1.14 in c:\\users\\thwjd\\anaconda3\\lib\\site-packages (from trio~=0.17->selenium) (1.14.6)\n",
      "Requirement already satisfied: idna in c:\\users\\thwjd\\anaconda3\\lib\\site-packages (from trio~=0.17->selenium) (3.2)\n",
      "Requirement already satisfied: sniffio in c:\\users\\thwjd\\anaconda3\\lib\\site-packages (from trio~=0.17->selenium) (1.2.0)\n",
      "Requirement already satisfied: async-generator>=1.9 in c:\\users\\thwjd\\anaconda3\\lib\\site-packages (from trio~=0.17->selenium) (1.10)\n",
      "Requirement already satisfied: pycparser in c:\\users\\thwjd\\anaconda3\\lib\\site-packages (from cffi>=1.14->trio~=0.17->selenium) (2.20)\n",
      "Requirement already satisfied: wsproto>=0.14 in c:\\users\\thwjd\\anaconda3\\lib\\site-packages (from trio-websocket~=0.9->selenium) (1.1.0)\n",
      "Requirement already satisfied: PySocks!=1.5.7,<2.0,>=1.5.6 in c:\\users\\thwjd\\anaconda3\\lib\\site-packages (from urllib3[secure,socks]~=1.26->selenium) (1.7.1)\n",
      "Requirement already satisfied: pyOpenSSL>=0.14 in c:\\users\\thwjd\\anaconda3\\lib\\site-packages (from urllib3[secure,socks]~=1.26->selenium) (21.0.0)\n",
      "Requirement already satisfied: cryptography>=1.3.4 in c:\\users\\thwjd\\anaconda3\\lib\\site-packages (from urllib3[secure,socks]~=1.26->selenium) (3.4.8)\n",
      "Requirement already satisfied: certifi in c:\\users\\thwjd\\anaconda3\\lib\\site-packages (from urllib3[secure,socks]~=1.26->selenium) (2021.10.8)\n",
      "Requirement already satisfied: six>=1.5.2 in c:\\users\\thwjd\\anaconda3\\lib\\site-packages (from pyOpenSSL>=0.14->urllib3[secure,socks]~=1.26->selenium) (1.16.0)\n",
      "Requirement already satisfied: h11<1,>=0.9.0 in c:\\users\\thwjd\\anaconda3\\lib\\site-packages (from wsproto>=0.14->trio-websocket~=0.9->selenium) (0.13.0)\n"
     ]
    }
   ],
   "source": [
    "!pip install selenium"
   ]
  },
  {
   "cell_type": "code",
   "execution_count": 52,
   "id": "7a702155",
   "metadata": {},
   "outputs": [],
   "source": [
    "from selenium import webdriver"
   ]
  },
  {
   "cell_type": "code",
   "execution_count": 54,
   "id": "5900037b",
   "metadata": {},
   "outputs": [
    {
     "name": "stderr",
     "output_type": "stream",
     "text": [
      "C:\\Users\\thwjd\\AppData\\Local\\Temp/ipykernel_13024/1089225172.py:1: DeprecationWarning: executable_path has been deprecated, please pass in a Service object\n",
      "  driver = webdriver.Chrome(\"C:\\Temp\\chromedriver\")\n"
     ]
    }
   ],
   "source": [
    "driver = webdriver.Chrome(\"C:\\Temp\\chromedriver\")\n",
    "# 암묵적으로 웹 자원 로드를 위해 3초까지 기다려 준다.\n",
    "driver.implicitly_wait(3)"
   ]
  },
  {
   "cell_type": "code",
   "execution_count": 56,
   "id": "b8c42349",
   "metadata": {},
   "outputs": [],
   "source": [
    "driver.get('http://www.google.com/')"
   ]
  },
  {
   "cell_type": "code",
   "execution_count": 61,
   "id": "da230f85",
   "metadata": {},
   "outputs": [
    {
     "name": "stderr",
     "output_type": "stream",
     "text": [
      "C:\\Users\\thwjd\\AppData\\Local\\Temp/ipykernel_13024/1410563620.py:1: DeprecationWarning: find_element_by_name is deprecated. Please use find_element(by=By.NAME, value=name) instead\n",
      "  search_box = driver.find_element_by_name('q')\n"
     ]
    },
    {
     "name": "stdout",
     "output_type": "stream",
     "text": [
      "검색어를 입력하세요: PYTHON\n"
     ]
    }
   ],
   "source": [
    "search_box = driver.find_element_by_name('q')\n",
    "keyword = input(\"검색어를 입력하세요: \")\n",
    "\n",
    "\n",
    "search_box.send_keys(keyword) # 키워드를 입력하고"
   ]
  },
  {
   "cell_type": "code",
   "execution_count": 62,
   "id": "4432e8af",
   "metadata": {},
   "outputs": [],
   "source": [
    "search_box.submit() # 검색어 전송"
   ]
  },
  {
   "cell_type": "code",
   "execution_count": 80,
   "id": "deb63d32",
   "metadata": {},
   "outputs": [],
   "source": [
    "driver.quit()"
   ]
  },
  {
   "cell_type": "code",
   "execution_count": 76,
   "id": "52e21b4e",
   "metadata": {},
   "outputs": [
    {
     "name": "stderr",
     "output_type": "stream",
     "text": [
      "C:\\Users\\thwjd\\AppData\\Local\\Temp/ipykernel_13024/1089225172.py:1: DeprecationWarning: executable_path has been deprecated, please pass in a Service object\n",
      "  driver = webdriver.Chrome(\"C:\\Temp\\chromedriver\")\n"
     ]
    }
   ],
   "source": [
    "driver = webdriver.Chrome(\"C:\\Temp\\chromedriver\")\n",
    "# 암묵적으로 웹 자원 로드를 위해 3초까지 기다려 준다.\n",
    "driver.implicitly_wait(3)"
   ]
  },
  {
   "cell_type": "code",
   "execution_count": 77,
   "id": "6e961a74",
   "metadata": {},
   "outputs": [],
   "source": [
    "driver.get('https://news.naver.com/')"
   ]
  },
  {
   "cell_type": "code",
   "execution_count": 69,
   "id": "ac75cc92",
   "metadata": {},
   "outputs": [
    {
     "name": "stderr",
     "output_type": "stream",
     "text": [
      "C:\\Users\\thwjd\\AppData\\Local\\Temp/ipykernel_13024/469933389.py:3: DeprecationWarning: find_element_by_css_selector is deprecated. Please use find_element(by=By.CSS_SELECTOR, value=css_selector) instead\n",
      "  elem = driver.find_element_by_css_selector(selector)\n"
     ]
    }
   ],
   "source": [
    "selector = \"#ct > div > section.main_content > div.main_brick > div > div:nth-child(1) > div.main_brick_item._channel_news_preview_wrapper > div:nth-child(1) > div > div:nth-child(2) > a > div.cjs_news_tw > div\"\n",
    "\n",
    "elem = driver.find_element_by_css_selector(selector)"
   ]
  },
  {
   "cell_type": "code",
   "execution_count": 71,
   "id": "83212c91",
   "metadata": {},
   "outputs": [
    {
     "data": {
      "text/plain": [
       "'새벽 속쓰림 덜어주는 수면 자세'"
      ]
     },
     "execution_count": 71,
     "metadata": {},
     "output_type": "execute_result"
    }
   ],
   "source": [
    "elem.text"
   ]
  },
  {
   "cell_type": "code",
   "execution_count": 79,
   "id": "f46c431c",
   "metadata": {},
   "outputs": [
    {
     "name": "stderr",
     "output_type": "stream",
     "text": [
      "C:\\Users\\thwjd\\AppData\\Local\\Temp/ipykernel_13024/1455505564.py:3: DeprecationWarning: find_elements_by_css_selector is deprecated. Please use find_elements(by=By.CSS_SELECTOR, value=css_selector) instead\n",
      "  elems = driver.find_elements_by_css_selector(selector)\n"
     ]
    }
   ],
   "source": [
    "selector = \"#ct > div > div.cjs_t\"\n",
    "\n",
    "elems = driver.find_elements_by_css_selector(selector)\n",
    "for k in elems :\n",
    "    print(k.text)"
   ]
  },
  {
   "cell_type": "code",
   "execution_count": 83,
   "id": "fa55bedb",
   "metadata": {},
   "outputs": [],
   "source": [
    "import time\n",
    "\n",
    "from selenium import webdriver"
   ]
  },
  {
   "cell_type": "code",
   "execution_count": 82,
   "id": "82142b54",
   "metadata": {},
   "outputs": [
    {
     "name": "stderr",
     "output_type": "stream",
     "text": [
      "C:\\Users\\thwjd\\AppData\\Local\\Temp/ipykernel_13024/1866184830.py:3: DeprecationWarning: executable_path has been deprecated, please pass in a Service object\n",
      "  driver = webdriver.Chrome(\"C:\\Temp\\chromedriver\")\n"
     ]
    }
   ],
   "source": [
    "twitter_url = \"https://twitter.com/bts_twt\"\n",
    "# BTS\n",
    "driver = webdriver.Chrome(\"C:\\Temp\\chromedriver\")\n",
    "driver.implicitly_wait(7)\n",
    "\n",
    "driver.get(twitter_url)"
   ]
  },
  {
   "cell_type": "code",
   "execution_count": 84,
   "id": "3c74f785",
   "metadata": {},
   "outputs": [
    {
     "name": "stderr",
     "output_type": "stream",
     "text": [
      "C:\\Users\\thwjd\\AppData\\Local\\Temp/ipykernel_13024/1805185119.py:7: DeprecationWarning: find_element_by_xpath is deprecated. Please use find_element(by=By.XPATH, value=xpath) instead\n",
      "  twitter_card = driver.find_element_by_xpath(twitt_total_xpath)\n",
      "C:\\Users\\thwjd\\AppData\\Local\\Temp/ipykernel_13024/1805185119.py:9: DeprecationWarning: find_elements_by_css_selector is deprecated. Please use find_elements(by=By.CSS_SELECTOR, value=css_selector) instead\n",
      "  for elem in twitter_card.find_elements_by_css_selector(twitt_text_selector):\n"
     ]
    },
    {
     "name": "stdout",
     "output_type": "stream",
     "text": [
      "한결 같은 우리형 ㅋㅋㅋㅋㅋㅋㅋㅋㅋㅋㅋㅋㅋㅋㅋ\n",
      "#JIMIN\n",
      "1만\n",
      "30.3만\n",
      "118.5만\n",
      "\n"
     ]
    }
   ],
   "source": [
    "scroll_num = 2\n",
    "twitt_total_xpath = '/html/body/div[1]/div/div/div[2]/main/div/div/div/div[1]/div/div[2]/div/div/section/div/div'\n",
    "twitt_text_selector = \"#react-root > div > div > div.css-1dbjc4n.r-18u37iz.r-13qz1uu.r-417010 > main > div > div > div > div.css-1dbjc4n.r-14lw9ot.r-jxzhtn.r-1ljd8xs.r-13l2t4g.r-1phboty.r-1jgb5lz.r-11wrixw.r-61z16t.r-1ye8kvj.r-13qz1uu.r-184en5c > div > div:nth-child(2) > div > div > section > div > div > div:nth-child(6) > div > div > div > article > div > div > div > div.css-1dbjc4n.r-18u37iz > div.css-1dbjc4n.r-1iusvr4.r-16y2uox.r-1777fci.r-kzbkwu > div:nth-child(2)\"\n",
    "\n",
    "for i in range(scroll_num):\n",
    "    \n",
    "    twitter_card = driver.find_element_by_xpath(twitt_total_xpath)\n",
    "\n",
    "    for elem in twitter_card.find_elements_by_css_selector(twitt_text_selector):\n",
    "        print(elem.text)\n",
    "        print()\n",
    "    \n",
    "    driver.execute_script(\"window.scrollTo(0, document.body.scrollHeight);\") \n",
    "    time.sleep(2)"
   ]
  },
  {
   "cell_type": "code",
   "execution_count": null,
   "id": "745c279d",
   "metadata": {},
   "outputs": [],
   "source": []
  }
 ],
 "metadata": {
  "kernelspec": {
   "display_name": "Python 3 (ipykernel)",
   "language": "python",
   "name": "python3"
  },
  "language_info": {
   "codemirror_mode": {
    "name": "ipython",
    "version": 3
   },
   "file_extension": ".py",
   "mimetype": "text/x-python",
   "name": "python",
   "nbconvert_exporter": "python",
   "pygments_lexer": "ipython3",
   "version": "3.9.7"
  }
 },
 "nbformat": 4,
 "nbformat_minor": 5
}
