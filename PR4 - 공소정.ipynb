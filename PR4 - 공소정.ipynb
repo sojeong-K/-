{
 "cells": [
  {
   "cell_type": "code",
   "execution_count": 5,
   "id": "7512d355",
   "metadata": {},
   "outputs": [
    {
     "name": "stdout",
     "output_type": "stream",
     "text": [
      "pass\n",
      "pass\n",
      "pass\n",
      "fail\n",
      "pass\n"
     ]
    }
   ],
   "source": [
    "score=[65, 80, 75, 55, 90]\n",
    "\n",
    "for i in range(len(score)):\n",
    "    if score[i]>= 60:\n",
    "        print(\"pass\")\n",
    "    else :\n",
    "        print(\"fail\")"
   ]
  },
  {
   "cell_type": "code",
   "execution_count": 4,
   "id": "60e1a138",
   "metadata": {},
   "outputs": [
    {
     "name": "stdout",
     "output_type": "stream",
     "text": [
      "[1, 0, 1, 0, 1, 1, 1, 0, 0, 0, 1, 0]\n"
     ]
    }
   ],
   "source": [
    "data1=[\"Cat\", \"Dog\", \"cat\", \"dog\", \"cat\", \"cat\", \"Cat\", \"Dog\", \"dog\", \"Dog\", \"cat\", \"Dog\"]\n",
    "dic_1={\"cat\":1, \"dog\":0, \"Cat\":1, \"Dog\":0}\n",
    "data2=[dic_1[key] for key in data1]\n",
    "print(data2)"
   ]
  },
  {
   "cell_type": "code",
   "execution_count": 2,
   "id": "0ba013e5",
   "metadata": {},
   "outputs": [
    {
     "name": "stdout",
     "output_type": "stream",
     "text": [
      "5\n",
      "11\n"
     ]
    }
   ],
   "source": [
    "a = 5\n",
    "print(a)\n",
    "b=6\n",
    "print(a+b)"
   ]
  },
  {
   "cell_type": "code",
   "execution_count": 4,
   "id": "bb2effcc",
   "metadata": {},
   "outputs": [
    {
     "name": "stdout",
     "output_type": "stream",
     "text": [
      "[1, 2, 3]\n",
      "1 2 3\n"
     ]
    }
   ],
   "source": [
    "# packing과 unpacking\n",
    "\n",
    "t=[1,2,3]\n",
    "a,b,c=t\n",
    "print(t)\n",
    "print(a,b,c)"
   ]
  },
  {
   "cell_type": "code",
   "execution_count": 7,
   "id": "450f1e7d",
   "metadata": {},
   "outputs": [
    {
     "name": "stdout",
     "output_type": "stream",
     "text": [
      "200\n",
      "600\n"
     ]
    }
   ],
   "source": [
    "def cal_rec(x,y):\n",
    "    z=x*y\n",
    "    return z\n",
    "\n",
    "a=10\n",
    "b=20\n",
    "print(cal_rec(a,b))\n",
    "k=cal_rec(20,30)\n",
    "print(k)"
   ]
  },
  {
   "cell_type": "code",
   "execution_count": 18,
   "id": "99787e9b",
   "metadata": {},
   "outputs": [
    {
     "name": "stdout",
     "output_type": "stream",
     "text": [
      "inside 30\n",
      "300\n",
      "50\n"
     ]
    }
   ],
   "source": [
    "def cal_rec2(x,y):\n",
    "    print(\"inside\",x)\n",
    "    print(x*y)\n",
    "\n",
    "x=50\n",
    "cal_rec2(30,10)\n",
    "print(x)    "
   ]
  },
  {
   "cell_type": "code",
   "execution_count": 25,
   "id": "eec0001b",
   "metadata": {},
   "outputs": [
    {
     "name": "stdout",
     "output_type": "stream",
     "text": [
      "inside 5\n",
      "10\n",
      "None\n",
      "inside 10\n",
      "200\n",
      "None\n",
      "inside 10\n",
      "200\n"
     ]
    }
   ],
   "source": [
    "def cal_rec2(x,y):\n",
    "    print(\"inside\",x)\n",
    "    print(x*y)\n",
    "\n",
    "x=50\n",
    "a=10\n",
    "b=20\n",
    "r=cal_rec2(5,2)\n",
    "print(r)\n",
    "print(cal_rec2(a,b))\n",
    "cal_rec2(10,20)"
   ]
  },
  {
   "cell_type": "code",
   "execution_count": 21,
   "id": "36f638d8",
   "metadata": {},
   "outputs": [
    {
     "name": "stdout",
     "output_type": "stream",
     "text": [
      "[0, 2, 1]\n",
      "[2, 3]\n",
      "[0, 2, 1]\n"
     ]
    }
   ],
   "source": [
    "def spam(x1):\n",
    "    x1.append(1)\n",
    "    print(x1)\n",
    "    x1=[2,3]\n",
    "    print(x1)\n",
    "    \n",
    "y1=[0,2]\n",
    "spam(y1)\n",
    "print(y1)"
   ]
  }
 ],
 "metadata": {
  "kernelspec": {
   "display_name": "Python 3 (ipykernel)",
   "language": "python",
   "name": "python3"
  },
  "language_info": {
   "codemirror_mode": {
    "name": "ipython",
    "version": 3
   },
   "file_extension": ".py",
   "mimetype": "text/x-python",
   "name": "python",
   "nbconvert_exporter": "python",
   "pygments_lexer": "ipython3",
   "version": "3.9.7"
  }
 },
 "nbformat": 4,
 "nbformat_minor": 5
}
