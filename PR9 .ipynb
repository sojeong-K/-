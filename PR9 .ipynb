{
 "cells": [
  {
   "cell_type": "markdown",
   "metadata": {},
   "source": [
    "# Crawling\n",
    "\n",
    "---"
   ]
  },
  {
   "cell_type": "markdown",
   "metadata": {},
   "source": [
    "# 실습코드\n",
    "\n",
    "--- \n",
    "\n",
    "> **Q**: 실습 파트의 코드를 작성하고 그 코드를 작성한 이유에 대해서 (강의에서 배운 내용 위주로) 주석으로 작성해주시기 바랍니다.  \n",
    "\n"
   ]
  },
  {
   "cell_type": "markdown",
   "metadata": {},
   "source": [
    "# 1. `urllib` \n",
    "\n",
    "- 파이썬은 웹 사이트에 있는 데이터를 추출하기 위해 `urllib` 라이브러리 사용\n",
    "- 이를 이용해 HTTP 또는 FTP를 사용해 데이터 다운로드 가능\n",
    "- `urllib`은 URL을 다루는 모듈을 모아 놓은 패키지\n",
    "- `urllib.request` 모듈은 웹 사이트에 있는 데이터에 접근하는 기능 제공, 또한 인증, 리다렉트, 쿠키처럼 인터넷을 이용한 다양한 요청과 처리가 가능"
   ]
  },
  {
   "cell_type": "code",
   "execution_count": 1,
   "metadata": {},
   "outputs": [],
   "source": [
    "from urllib import request"
   ]
  },
  {
   "cell_type": "markdown",
   "metadata": {},
   "source": [
    "\n",
    "\n",
    "\n",
    "## 1.x. `urllib.request`를 이용한 다운로드\n",
    "\n",
    "- urllib.request 모듈에 있는 urlretrieve() 함수 이용\n",
    "- 다음의 코드는 PNG 파일을 test.png 라는 이름의 파일로 저장하는 예제임"
   ]
  },
  {
   "cell_type": "code",
   "execution_count": 2,
   "metadata": {},
   "outputs": [
    {
     "name": "stdout",
     "output_type": "stream",
     "text": [
      "저장되었습니다\n"
     ]
    }
   ],
   "source": [
    "# 라이브러리 읽어들이기 \n",
    "from urllib import request\n",
    "\n",
    "url=\"http://uta.pw/shodou/img/28/214.png\"\n",
    "savename=\"test.png\"\n",
    "\n",
    "request.urlretrieve(url, savename)\n",
    "print(\"저장되었습니다\")"
   ]
  },
  {
   "cell_type": "markdown",
   "metadata": {},
   "source": [
    "## 1.2. urlopen으로 파일에 저장하는 방법\n",
    "\n",
    "- request.urlopen()은 메모리에 데이터를 올린 후 파일에 저장하게 된다."
   ]
  },
  {
   "cell_type": "code",
   "execution_count": 3,
   "metadata": {},
   "outputs": [
    {
     "name": "stdout",
     "output_type": "stream",
     "text": [
      "저장되었습니다..\n"
     ]
    }
   ],
   "source": [
    "# URL과 저장경로 지정하기\n",
    "url = \"http://uta.pw/shodou/img/28/214.png\"\n",
    "savename = \"test1.png\"\n",
    "#다운로드\n",
    "mem = request.urlopen(url).read()\n",
    "#파일로 저장하기, wb는 쓰기와 바이너리모드\n",
    "with open(savename, mode=\"wb\") as f:\n",
    "    f.write(mem)\n",
    "    print(\"저장되었습니다..\")"
   ]
  },
  {
   "cell_type": "markdown",
   "metadata": {},
   "source": [
    "## 1.3. API 사용하기\n",
    "\n",
    "### 클라이언트 접속 정보 출력 (기본)\n",
    "\n",
    "- API는 사용자의 요청에 따라 정보를 반환하는 프로그램\n",
    "- IP 주소, UserAgent 등 클라이언트 접속정보 출력하는 \"IP 확인 API\" 접근해서 정보를 추출하는 프로그램\n"
   ]
  },
  {
   "cell_type": "code",
   "execution_count": 4,
   "metadata": {},
   "outputs": [
    {
     "name": "stdout",
     "output_type": "stream",
     "text": [
      "[ip]\n",
      "API_URI=http://api.aoikujira.com/ip/get.php\n",
      "REMOTE_ADDR=27.119.24.150\n",
      "REMOTE_HOST=27.119.24.150\n",
      "REMOTE_PORT=51858\n",
      "HTTP_HOST=api.aoikujira.com\n",
      "HTTP_USER_AGENT=Python-urllib/3.9\n",
      "HTTP_ACCEPT_LANGUAGE=\n",
      "HTTP_ACCEPT_CHARSET=\n",
      "SERVER_PORT=80\n",
      "FORMAT=ini\n",
      "\n",
      "\n"
     ]
    }
   ],
   "source": [
    "#데이터 읽어들이기\n",
    "url=\"http://api.aoikujira.com/ip/ini\"\n",
    "res=request.urlopen(url)\n",
    "data=res.read()\n",
    "\n",
    "#바이너리를 문자열로 변환하기\n",
    "text=data.decode(\"utf-8\")\n",
    "print(text)"
   ]
  },
  {
   "cell_type": "markdown",
   "metadata": {},
   "source": [
    "# 2. BeautifulSoup\n",
    "\n",
    "- 스크레이핑(Scraping or Crawling)이란 웹 사이트에서 데이터를 추출하고, 원하는 정보를 추출하는 것을 의미\n",
    "- `BeautifulSoup`란 파이썬으로 스크레이핑할 때 사용되는 라이브러리로서 HTML/XML에서 정보를 추출할 수 있도록 도와줌. 그러나 다운로드 기능은 없음.\n",
    "- 파이썬 라이브러리는 pip 명령어를 이용해 설치 가능. Python Package Index(PyPI)에 있는 패키지 명령어를 한줄로 설치 가능\n",
    "    + URL (http://pypi.python.org/pypi)\n",
    "\n",
    "```\n",
    "pip install beautifulsoup4\n",
    "```\n",
    "\n",
    "- 예제 HTML\n",
    "\n",
    "```html\n",
    "<html><body>\n",
    "  <h1>스크레이핑이란?</h1>\n",
    "  <p>웹 페이지를 분석하는 것</p>\n",
    "  <p>원하는 부분을 추출하는 것</p>\n",
    "</body></html>\n",
    "\n",
    "```\n",
    "\n",
    "### 패키지 import 및 예제 HTML\n",
    "\n",
    "\n"
   ]
  },
  {
   "cell_type": "code",
   "execution_count": 5,
   "metadata": {},
   "outputs": [],
   "source": [
    "from bs4 import BeautifulSoup"
   ]
  },
  {
   "cell_type": "code",
   "execution_count": 6,
   "metadata": {},
   "outputs": [],
   "source": [
    "html = \"\"\"\n",
    "<html><body>\n",
    "  <h1>스크레이핑이란?</h1>\n",
    "  <p>웹 페이지를 분석하는 것</p>\n",
    "  <p>원하는 부분을 추출하는 것</p>\n",
    "</body></html>\n",
    "\"\"\""
   ]
  },
  {
   "cell_type": "markdown",
   "metadata": {},
   "source": [
    "## 2.1. 기본 사용\n",
    "\n",
    "- 다음은 Beautifulsoup를 이용하여 웹사이트로부터 HTML을 가져와 문자열로 만들어 이용하는 예제임\n",
    "\n",
    "- h1 태그를 접근하기 위해 html-body-h1 구조를 사용하여 soup.html.body.h1 이런식으로 이용하게 됨.\n",
    "- p 태그는 두개가 있어 soup.html.body.p 한 후 next_sibling을 두번 이용하여 다음 p를 추출. 한번만 하면 그 다음 공백이 추출됨.\n",
    "- HTML 태그가 복잡한 경우 이런 방식으로 계속 진행하기는 적합하지 않음.\n"
   ]
  },
  {
   "cell_type": "markdown",
   "metadata": {},
   "source": [
    "### 2) HTML 분석하기"
   ]
  },
  {
   "cell_type": "code",
   "execution_count": 7,
   "metadata": {},
   "outputs": [],
   "source": [
    "soup = BeautifulSoup(html, 'html.parser')"
   ]
  },
  {
   "cell_type": "markdown",
   "metadata": {},
   "source": [
    "### 3) 원하는 부분 추출하기"
   ]
  },
  {
   "cell_type": "code",
   "execution_count": 8,
   "metadata": {},
   "outputs": [],
   "source": [
    "h1 = soup.html.body.h1\n",
    "p1 = soup.html.body.p\n",
    "p2 = p1.next_sibling.next_sibling"
   ]
  },
  {
   "cell_type": "markdown",
   "metadata": {},
   "source": [
    "### 4) 요소의 글자 출력하기"
   ]
  },
  {
   "cell_type": "code",
   "execution_count": 9,
   "metadata": {},
   "outputs": [
    {
     "name": "stdout",
     "output_type": "stream",
     "text": [
      "h1 = 스크레이핑이란?\n",
      "p  = 웹 페이지를 분석하는 것\n",
      "p  = 원하는 부분을 추출하는 것\n"
     ]
    }
   ],
   "source": [
    "print(f\"h1 = {h1.string}\")\n",
    "print(f\"p  = {p1.string}\")\n",
    "print(f\"p  = {p2.string}\")"
   ]
  },
  {
   "cell_type": "markdown",
   "metadata": {},
   "source": [
    "## 2.2. 요소를 찾는 method\n",
    "\n",
    "### 단일 element 추출: `find()`\n",
    "\n",
    "BeautifulSoup는 루트부터 하나하나 요소를 찾는 방법 말고도 find()라는 메소드를 제공함"
   ]
  },
  {
   "cell_type": "code",
   "execution_count": 10,
   "metadata": {},
   "outputs": [],
   "source": [
    "soup = BeautifulSoup(html, 'html.parser')"
   ]
  },
  {
   "cell_type": "markdown",
   "metadata": {},
   "source": [
    "- 1) `find()` 메서드로 원하는 부분 추출하기"
   ]
  },
  {
   "cell_type": "code",
   "execution_count": 11,
   "metadata": {},
   "outputs": [
    {
     "name": "stdout",
     "output_type": "stream",
     "text": [
      "<h1>스크레이핑이란?</h1>\n"
     ]
    }
   ],
   "source": [
    "title = soup.find(\"h1\")\n",
    "body  = soup.find(\"p\")\n",
    "print(title)\n"
   ]
  },
  {
   "cell_type": "markdown",
   "metadata": {},
   "source": [
    "- 2) 텍스트 부분 출력하기"
   ]
  },
  {
   "cell_type": "code",
   "execution_count": 12,
   "metadata": {},
   "outputs": [
    {
     "name": "stdout",
     "output_type": "stream",
     "text": [
      "#title = 스크레이핑이란?\n",
      "#body = 웹 페이지를 분석하는 것\n"
     ]
    }
   ],
   "source": [
    "print(f\"#title = {title.string}\" )\n",
    "print(f\"#body = {body.string}\")"
   ]
  },
  {
   "cell_type": "markdown",
   "metadata": {},
   "source": [
    "### 복수 elements 추출: `find_all()`\n",
    "\n",
    "여러개의 태그를 한번에 추출하고자 할때 사용함. 다음의 예제에서는 여러개의 태그를 추출하는 법을 보여주고 있음"
   ]
  },
  {
   "cell_type": "code",
   "execution_count": 13,
   "metadata": {},
   "outputs": [],
   "source": [
    "html = \"\"\"\n",
    "<html><body>\n",
    "  <ul>\n",
    "    <li><a href=\"http://www.naver.com\">naver</a></li>\n",
    "    <li><a href=\"http://www.daum.net\">daum</a></li>\n",
    "  </ul>\n",
    "</body></html>\n",
    "\"\"\"\n",
    "\n",
    "soup = BeautifulSoup(html, 'html.parser')"
   ]
  },
  {
   "cell_type": "markdown",
   "metadata": {},
   "source": [
    "- 1) `find_all()` 메서드로 추출하기"
   ]
  },
  {
   "cell_type": "code",
   "execution_count": 14,
   "metadata": {},
   "outputs": [
    {
     "name": "stdout",
     "output_type": "stream",
     "text": [
      "[<a href=\"http://www.naver.com\">naver</a>, <a href=\"http://www.daum.net\">daum</a>] 2\n"
     ]
    }
   ],
   "source": [
    "links = soup.find_all(\"a\")\n",
    "print(links, len(links))"
   ]
  },
  {
   "cell_type": "markdown",
   "metadata": {},
   "source": [
    "- 2) 링크 목록 출력하기"
   ]
  },
  {
   "cell_type": "code",
   "execution_count": 15,
   "metadata": {},
   "outputs": [
    {
     "name": "stdout",
     "output_type": "stream",
     "text": [
      "naver > http://www.naver.com\n",
      "daum > http://www.daum.net\n"
     ]
    }
   ],
   "source": [
    "for a in links:\n",
    "    href = a.attrs['href'] # href의 속성에 있는 속성값을 추출\n",
    "    text = a.string \n",
    "    print(text, \">\", href)"
   ]
  },
  {
   "cell_type": "markdown",
   "metadata": {},
   "source": [
    "# 3. Css Selector\n",
    "\n",
    "\n",
    "> Css Selector란, 웹상의 요소에 css를 적용하기 위한 문법으로, 즉 요소를 선택하기 위한 패턴입니다.  \n",
    "> \n",
    "> 출처: https://www.w3schools.com/cssref/css_selectors.asp\n",
    "\n",
    "앞서 간단하게 태그를 사용하여 데이터를 추출하는 방법에 대해서 살펴보았습니다.\n",
    "\n",
    "하지만 복잡하게 구조화된 웹 사이트에서 자신이 원하는 데이터를 가져오기 위해서는 Css Selector에 대한 이해가 필요합니다.\n",
    "\n",
    "\n",
    "\n",
    "| 서식\t| 설명 |\n",
    "| ----- | ----- |\n",
    "| * | 모든 요소를 선택 |\n",
    "| <요소 이름> | 요소 이름을 기반으로 선택 |\n",
    "|.<클래스 이름>\t| 클래스 이름을 기반으로 선택 |\n",
    "| #<id 이름> |id 속성을 기반으로 선택 |\n",
    "\n",
    "\n",
    "## `BeautifulSoup`에서 Css Selector 사용하기\n",
    "`BeautifulSoup`에서는 Css Selector로 값을 가져올 수 있도록 `find`와는 다른 다음과 같은 메서드를 제공합니다. \n",
    "\n",
    "메서드\t| 설명\n",
    "------ | ------\n",
    "`soup.select_one(선택자)` | CSS 선택자로 요소 하나를 추출합니다.\n",
    "`soup.select(선택자)` | CSS 선택자로 요소 여러 개를 리스트를 추출합니다.\n"
   ]
  },
  {
   "cell_type": "code",
   "execution_count": 16,
   "metadata": {},
   "outputs": [],
   "source": [
    "html = \"\"\"\n",
    "<html><body>\n",
    "<div id=\"meigen\">\n",
    "  <h1>위키북스 도서</h1>\n",
    "  <ul class=\"items\">\n",
    "    <li>유니티 게임 이펙트 입문</li>\n",
    "    <li>스위프트로 시작하는 아이폰 앱 개발 교과서</li>\n",
    "    <li>모던 웹사이트 디자인의 정석</li>\n",
    "  </ul>\n",
    "</div>\n",
    "</body></html>\n",
    "\"\"\"\n",
    "\n",
    "# HTML 분석하기 \n",
    "soup = BeautifulSoup(html, 'html.parser')"
   ]
  },
  {
   "cell_type": "markdown",
   "metadata": {},
   "source": [
    "- 필요한 부분을 CSS 쿼리로 추출하기"
   ]
  },
  {
   "cell_type": "code",
   "execution_count": 17,
   "metadata": {},
   "outputs": [
    {
     "name": "stdout",
     "output_type": "stream",
     "text": [
      "h1 = 위키북스 도서\n",
      "li = 유니티 게임 이펙트 입문\n",
      "li = 스위프트로 시작하는 아이폰 앱 개발 교과서\n",
      "li = 모던 웹사이트 디자인의 정석\n"
     ]
    }
   ],
   "source": [
    "# 타이틀 부분 추출하기 --- (※3)\n",
    "h1 = soup.select_one(\"div#meigen > h1\").string\n",
    "print(f\"h1 = {h1}\")\n",
    "\n",
    "# 목록 부분 추출하기 --- (※4)\n",
    "li_list = soup.select(\"div#meigen > ul.items > li\")\n",
    "for li in li_list:\n",
    "  print(f\"li = {li.string}\")"
   ]
  },
  {
   "cell_type": "markdown",
   "metadata": {},
   "source": [
    "# 4. 활용 예제\n",
    "\n",
    "앞서 배운  `urllib`과 `BeautifulSoup`를 조합하면, 웹스크레이핑 및 API 요청 작업을 쉽게 수행하실 수 있습니다.\n",
    "\n",
    "1. URL을 이용하여 웹으로부터 html을 읽어들임 (`urllib`)\n",
    "2. html 분석 및 원하는 데이터를 추출 (`BeautifulSoup`)\n",
    "\n",
    "\n"
   ]
  },
  {
   "cell_type": "code",
   "execution_count": 18,
   "metadata": {},
   "outputs": [],
   "source": [
    "from bs4 import BeautifulSoup\n",
    "from urllib import request, parse"
   ]
  },
  {
   "cell_type": "markdown",
   "metadata": {},
   "source": [
    "## 4.1. 네이버 금융 - 환율 정보\n",
    "\n",
    "- 다양한 금융 정보가 공개돼 있는 \"네이버 금융\"에서 원/달러 환율 정보를 추출해보자!\n",
    "- 네이버 금융의 시장 지표 페이지 https://finance.naver.com/marketindex/\n",
    "- 다음은 원/달러 환율 정보를 추출하는 프로그램임\n",
    "\n",
    "### 1) HTML 가져오기"
   ]
  },
  {
   "cell_type": "code",
   "execution_count": 20,
   "metadata": {},
   "outputs": [],
   "source": [
    "url = \"https://finance.naver.com/marketindex/\"\n",
    "res = request.urlopen(url)"
   ]
  },
  {
   "cell_type": "markdown",
   "metadata": {},
   "source": [
    "### 2) HTML 분석하기"
   ]
  },
  {
   "cell_type": "code",
   "execution_count": 21,
   "metadata": {},
   "outputs": [],
   "source": [
    "soup = BeautifulSoup(res, \"html.parser\")"
   ]
  },
  {
   "cell_type": "markdown",
   "metadata": {},
   "source": [
    "### 3) 원하는 데이터 추출하기 "
   ]
  },
  {
   "cell_type": "code",
   "execution_count": 22,
   "metadata": {},
   "outputs": [
    {
     "name": "stdout",
     "output_type": "stream",
     "text": [
      "usd/krw = 1,256.00\n"
     ]
    }
   ],
   "source": [
    "price = soup.select_one(\"div.head_info > span.value\").string\n",
    "print(\"usd/krw =\", price)"
   ]
  },
  {
   "cell_type": "markdown",
   "metadata": {},
   "source": [
    "## 4.2. 기상청 RSS\n",
    "\n",
    "\n",
    "\n",
    "- 기상청 RSS에서 특정 내용을 추출하는 예제\n",
    "- 기상청 RSS에서 XML 데이터를 추출하고 XML 내용을 출력\n",
    "- 기상청의 RSS 서비스에 지역 번호를 지정하여 데이터 요청해보기 http://www.kma.go.kr/weather/forecast/mid-term-rss3.jsp\n",
    "     + 참고: 기상청 RSS http://www.kma.go.kr/weather/lifenindustry/service_rss.jsp\n",
    "\n",
    "매개변수 |\t의미\n",
    "----- | ----\n",
    "stnid |\t기상정보를 알고 싶은 지역을 지정\n",
    "\n",
    "- 지역번호는 다음과 같음\n",
    "\n",
    "\n",
    "\n",
    "지역\t| 지역번호\t| 지역 | 지역번호\n",
    "---- | ---- | ---- | ----\n",
    "전국\t| 108 |\t전라북도 | 146\n",
    "서울/경기도\t| 109\t| 전라남도\t| 156\n",
    "강원도\t| 105\t| 경상북도\t| 143\n",
    "충청북도 | 131 | 경상남도\t| 159\n",
    "충청남도 | 133 |\t제주특별자치도 |\t184\n",
    "\n",
    "- 파이썬으로 요청 전용 매개변수를 만들 때는 urllib.parse 모듈의 urlencode() 함수를 사용해 매개변수를 URL로 인코딩한다.\n",
    "\n",
    "\n",
    "### 1) HTML 가져오기"
   ]
  },
  {
   "cell_type": "code",
   "execution_count": 23,
   "metadata": {},
   "outputs": [
    {
     "name": "stdout",
     "output_type": "stream",
     "text": [
      "url= http://www.kma.go.kr/weather/forecast/mid-term-rss3.jsp?stnId=109\n"
     ]
    }
   ],
   "source": [
    "url = \"http://www.kma.go.kr/weather/forecast/mid-term-rss3.jsp\"\n",
    "\n",
    "#매개변수를 URL로 인코딩한다.\n",
    "values = {\n",
    "    'stnId':'109'\n",
    "}\n",
    "\n",
    "params=parse.urlencode(values)\n",
    "url += \"?\"+params # URL에 매개변수 추가\n",
    "print(\"url=\", url)\n",
    "\n",
    "res = request.urlopen(url)"
   ]
  },
  {
   "cell_type": "markdown",
   "metadata": {},
   "source": [
    "### 2) HTML 분석하기"
   ]
  },
  {
   "cell_type": "code",
   "execution_count": 24,
   "metadata": {},
   "outputs": [],
   "source": [
    "soup = BeautifulSoup(res, \"html.parser\")"
   ]
  },
  {
   "cell_type": "markdown",
   "metadata": {},
   "source": [
    "### 3) 원하는 데이터 추출하기"
   ]
  },
  {
   "cell_type": "code",
   "execution_count": 25,
   "metadata": {},
   "outputs": [
    {
     "name": "stdout",
     "output_type": "stream",
     "text": [
      "서울,경기도 육상중기예보\n",
      "○ (기온) 이번 예보기간 아침 기온은 12~19도로 어제(28일, 아침최저기온 10~15도)보다 높겠고, 낮 기온은 23~30도로 어제(28일, 낮최고기온 25~30도)와 비슷하거나 조금 낮겠습니다.  <br />○ (해상) 서해중부해상의 물결은 6월 1일(수)은 1.0~2.5m, 그 밖의 날은 1.0~2.0m로 일겠습니다.\n"
     ]
    }
   ],
   "source": [
    "header = soup.find(\"header\")\n",
    "\n",
    "title = header.find(\"title\").text\n",
    "wf = header.find(\"wf\").text\n",
    "\n",
    "print(title)\n",
    "print(wf)"
   ]
  },
  {
   "cell_type": "markdown",
   "metadata": {},
   "source": [
    "- css selector 기반"
   ]
  },
  {
   "cell_type": "code",
   "execution_count": 26,
   "metadata": {},
   "outputs": [
    {
     "name": "stdout",
     "output_type": "stream",
     "text": [
      "서울,경기도 육상중기예보\n",
      "○ (기온) 이번 예보기간 아침 기온은 12~19도로 어제(28일, 아침최저기온 10~15도)보다 높겠고, 낮 기온은 23~30도로 어제(28일, 낮최고기온 25~30도)와 비슷하거나 조금 낮겠습니다.  <br />○ (해상) 서해중부해상의 물결은 6월 1일(수)은 1.0~2.5m, 그 밖의 날은 1.0~2.0m로 일겠습니다.\n"
     ]
    }
   ],
   "source": [
    "title = soup.select_one(\"header > title\").text\n",
    "wf = header.select_one(\"wf\").text\n",
    "\n",
    "print(title)\n",
    "print(wf)"
   ]
  },
  {
   "cell_type": "markdown",
   "metadata": {},
   "source": [
    "## 4.3. 윤동주 작가의 작품 목록\n",
    "\n",
    "- 위키문헌 (https://ko.wikisource.org/wiki) 에 공개되어 있는 윤동주의 작품목록을 가져오기\n",
    "- 윤동주 위키 (https://ko.wikisource.org/wiki/%EC%A0%80%EC%9E%90:%EC%9C%A4%EB%8F%99%EC%A3%BC)\n",
    "- 하늘과 바람과 시 부분을 선택한 후 오른쪽 마우스 이용해 copy selector로 카피하면 다음의 CSS 선택자가 카피됨\n",
    "    + `#mw-content-text > div > ul:nth-child(6) > li > b > a`\n",
    "- nth-child(n) 은 n 번째 요소를 의미 즉 6번째 요소를 의미, `#mw-content-text` 내부에 있는 url 태그는 모두 작품과 관련된 태그. 따라서 따로 구분할 필요는 없으며 생략해도 됨. BeautifulSoup는 nth-child 지원하지 않음\n",
    "    + Recall PR7 Problem1"
   ]
  },
  {
   "cell_type": "code",
   "execution_count": 27,
   "metadata": {},
   "outputs": [
    {
     "name": "stdout",
     "output_type": "stream",
     "text": [
      "- 하늘과 바람과 별과 시\n",
      "- 증보판\n",
      "- 서시\n",
      "- 자화상\n",
      "- 소년\n",
      "- 눈 오는 지도\n",
      "- 돌아와 보는 밤\n",
      "- 병원\n",
      "- 새로운 길\n",
      "- 간판 없는 거리\n",
      "- 태초의 아침\n",
      "- 또 태초의 아침\n",
      "- 새벽이 올 때까지\n",
      "- 무서운 시간\n",
      "- 십자가\n",
      "- 바람이 불어\n",
      "- 슬픈 족속\n",
      "- 눈감고 간다\n",
      "- 또 다른 고향\n",
      "- 길\n",
      "- 별 헤는 밤\n",
      "- 흰 그림자\n",
      "- 사랑스런 추억\n",
      "- 흐르는 거리\n",
      "- 쉽게 씌어진 시\n",
      "- 봄\n",
      "- 참회록\n",
      "- 간(肝)\n",
      "- 위로\n",
      "- 팔복\n",
      "- 못자는밤\n",
      "- 달같이\n",
      "- 고추밭\n",
      "- 아우의 인상화\n",
      "- 사랑의 전당\n",
      "- 이적\n",
      "- 비오는 밤\n",
      "- 산골물\n",
      "- 유언\n",
      "- 창\n",
      "- 바다\n",
      "- 비로봉\n",
      "- 산협의 오후\n",
      "- 명상\n",
      "- 소낙비\n",
      "- 한난계\n",
      "- 풍경\n",
      "- 달밤\n",
      "- 장\n",
      "- 밤\n",
      "- 황혼이 바다가 되어\n",
      "- 아침\n",
      "- 빨래\n",
      "- 꿈은 깨어지고\n",
      "- 산림\n",
      "- 이런날\n",
      "- 산상\n",
      "- 양지쪽\n",
      "- 닭\n",
      "- 가슴 1\n",
      "- 가슴 2\n",
      "- 비둘기\n",
      "- 황혼\n",
      "- 남쪽 하늘\n",
      "- 창공\n",
      "- 거리에서\n",
      "- 삶과 죽음\n",
      "- 초한대\n",
      "- 산울림\n",
      "- 해바라기 얼굴\n",
      "- 귀뚜라미와 나와\n",
      "- 애기의 새벽\n",
      "- 햇빛·바람\n",
      "- 반디불\n",
      "- 둘 다\n",
      "- 거짓부리\n",
      "- 눈\n",
      "- 참새\n",
      "- 버선본\n",
      "- 편지\n",
      "- 봄\n",
      "- 무얼 먹구 사나\n",
      "- 굴뚝\n",
      "- 햇비\n",
      "- 빗자루\n",
      "- 기왓장 내외\n",
      "- 오줌싸개 지도\n",
      "- 병아리\n",
      "- 조개껍질\n",
      "- 겨울\n",
      "- 트루게네프의 언덕\n",
      "- 달을 쏘다\n",
      "- 별똥 떨어진 데\n",
      "- 화원에 꽃이 핀다\n",
      "- 종시\n"
     ]
    }
   ],
   "source": [
    "# 뒤의 인코딩 부분은 \"저자:윤동주\"라는 의미입니다.\n",
    "# 따로 입력하지 말고 위키 문헌 홈페이지에 들어간 뒤에 주소를 복사해서 사용하세요.\n",
    "\n",
    "url = \"https://ko.wikisource.org/wiki/%EC%A0%80%EC%9E%90:%EC%9C%A4%EB%8F%99%EC%A3%BC\"\n",
    "res = request.urlopen(url)\n",
    "soup = BeautifulSoup(res, \"html.parser\")\n",
    "\n",
    "# #mw-content-text 바로 아래에 있는 \n",
    "# ul 태그 바로 아래에 있는\n",
    "# li 태그 아래에 있는\n",
    "# a 태그를 모두 선택합니다.\n",
    "a_list = soup.select(\"#mw-content-text   ul > li  a\")\n",
    "for a in a_list:\n",
    "    name = a.string\n",
    "    print(f\"- {name}\", )"
   ]
  },
  {
   "cell_type": "markdown",
   "metadata": {},
   "source": [
    "# 일반문제\n",
    "\n",
    "---\n"
   ]
  },
  {
   "cell_type": "code",
   "execution_count": 28,
   "metadata": {},
   "outputs": [],
   "source": [
    "from bs4 import BeautifulSoup\n",
    "from urllib import request"
   ]
  },
  {
   "cell_type": "markdown",
   "metadata": {},
   "source": [
    "## 1. 다음 뉴스 헤드라인\n",
    "\n",
    "배운 내용을 바탕으로 다음 뉴스(https://news.daum.net/)에서 헤드라인 뉴스의 제목을 추출해보고자 합니다.\n",
    "\n",
    "\n",
    "> ***Q***: 다음의 코드에 css selector를 추가하여 최신 기사의 헤드라인을 스크레이핑하는 코드를 완성하시오.\n",
    "\n",
    "\n"
   ]
  },
  {
   "cell_type": "code",
   "execution_count": 29,
   "metadata": {},
   "outputs": [
    {
     "name": "stdout",
     "output_type": "stream",
     "text": [
      "b''\n"
     ]
    }
   ],
   "source": [
    "print(res.read())"
   ]
  },
  {
   "cell_type": "code",
   "execution_count": 33,
   "metadata": {},
   "outputs": [
    {
     "name": "stdout",
     "output_type": "stream",
     "text": [
      "\n",
      "                                    대전 여야 후보들, 유성시장서 '구마적' 이원종·이인제 내세워 '대격돌'\n",
      "                                \n",
      "\n",
      "                                    제주의 밤을 수놓는 '황금빛'과 '초록빗'\n",
      "                                \n",
      "\n",
      "                                    송영길, '노도강' 공략..\"구룡마을 개발, 서울시민에 100만원씩\"\n",
      "                                \n",
      "\n",
      "                                    추경 일단락됐지만.. 윤 대통령 '협치' 고비마다 진통\n",
      "                                \n",
      "\n",
      "                                    추경 59조→62조원..특고에 200만원·소상공인 채무조정 확대\n",
      "                                \n",
      "\n",
      "                                    尹대통령 1호 국정과제 '추경안' 처리 눈앞..정부, 집행 '속도전'\n",
      "                                \n",
      "\n",
      "                                    '진보' 노옥희 vs '보수' 김주홍 울산교육감 선거 누가 웃을까\n",
      "                                \n",
      "\n",
      "                                    김은혜 \"무박 5일\"vs김동연 \"파란31 대장정\"..주말 표심잡기 강행군\n",
      "                                \n",
      "\n",
      "                                    금융당국-은행 '예대금리차 공시' 개선 협의 시작\n",
      "                                \n",
      "\n",
      "                                    선거법 속 숨은 차별, 알고 계셨나요?..딸은 '출가외인', 유세엔 '기혼자 우대'\n",
      "                                \n",
      "\n",
      "                                    북핵에 뭉치는 한·미·일..문재인 정부 때와 달라졌다\n",
      "                                \n",
      "\n",
      "                                    내달초 외환 선진화방안 발표..MSCI 선진지수 편입엔 신중\n",
      "                                \n",
      "\n",
      "                                    '엔진 떼고 모터 장착'..정부, 전기차 컨버전 속도낸다\n",
      "                                \n",
      "\n",
      "                                    나이지리아 제1야당, 아부바카르 전 부통령 대선후보 선출\n",
      "                                \n",
      "\n",
      "                                    메타버스, 새로운 놀이장소 될 줄 알았는데..'일터'에서 먼저 적용된다\n",
      "                                \n",
      "\n",
      "                                    '텍사스 총격범' 사용 총기 제조사 '선구매 후결제'로 쉬운 구매 유도\n",
      "                                \n",
      "\n",
      "                                    미·중 남태평양 쟁탈전..IPEF 합류한 피지, 中은 키리바시에 활주로\n",
      "                                \n",
      "\n",
      "                                    북한 오늘 낮 12시부터 봉쇄 해제..방역 조치 대폭 완화\n",
      "                                \n",
      "\n",
      "                                    원희룡 \"빠른 시일 내 국민이 원하는 주택 공급 계획 밝히겠다\"\n",
      "                                \n",
      "\n",
      "                                    초박빙 임실군수..마지막 휴일 유세 '대규모' 대신 '일대일'[6·1지선 D-3]\n",
      "                                \n",
      "\n",
      "                                    동물성 원료를 비건으로 바꾸는 기술, 비건 화학 [우리가 몰랐던 과학 이야기] (246)\n",
      "                                \n",
      "\n",
      "                                    [포착] \"전사자 3만명 돌파\" 다급한 러軍, 한물간 60년전 탱크 동원 (영상)\n",
      "                                \n",
      "\n",
      "                                    [스페셜리포트]코딩 없이 코딩..노코드, 개발 지형 바꾼다\n",
      "                                \n",
      "\n",
      "                                    아직 곡물수급 문제 없단 정부..가격부담 줄이며 식량공급체계 강화\n",
      "                                \n",
      "\n",
      "                                    [뉴스1 PICK} 여의도에서 서울대까지 16분, 신림선 개통\n",
      "                                \n",
      "\n",
      "                                    반복되는 미국 학교 총기 난사..'대책 없음'에 좌절하는 학생 교사 [특파원 24시]\n",
      "                                \n",
      "\n",
      "                                    [영상] 젤렌스키, 푸틴과 기념촬영 맥그리거에 실망감 표현 [나우, 어스]\n",
      "                                \n",
      "\n",
      "                                    한국은행이 '빅스텝' 고려할 4가지 요인 [조미현의 외환·금융 워치]\n",
      "                                \n",
      "마지막 주말유세 나선 오세훈 \"도심 녹지율 높일것\"\n",
      " 경복궁 찾은 관람객들, 한복 뒷모습도 괜찮아요\n",
      "尹대통령 부부의 주말 엿보기!..'일반인과 다르지 않네' \n",
      "전통시장 상인들에게 지지호소하는 윤호중\n",
      "Kakao Corp.\n"
     ]
    }
   ],
   "source": [
    "url = \"https://news.daum.net/\"\n",
    "\n",
    "res = request.urlopen(url)\n",
    "soup = BeautifulSoup(res, \"html.parser\")\n",
    "\n",
    "selector = \"\" # 선택자를 작성해주세요. \n",
    "\n",
    "for a in soup.select(selector):\n",
    "    title = a.text\n",
    "    print(title)\n"
   ]
  },
  {
   "cell_type": "markdown",
   "metadata": {},
   "source": [
    "## 2. 시민의 소리 게시판 \n",
    "\n",
    "다음은 서울시 대공원의 시민의 소리 게시판 입니다.\n",
    "\n",
    "https://www.sisul.or.kr/open_content/childrenpark/qna/qnaMsgList.do?pgno=1\n",
    "\n",
    "해당 페이지에 나타난 게시글들의 제목을 수집하고자 합니다.\n",
    "\n",
    "> ***Q***: 다음의 코드에 css selector를 추가하여 해당 페이지에서 게시글의 제목을 스크레이핑하는 코드를 완성하시오. 또한 과제 제출시 하단의 **추가 내용**을 참고하여 수집한 데이터를 csv 형태로 저장하여 해당 csv 파일도 함께 제출하시오.   \n"
   ]
  },
  {
   "cell_type": "code",
   "execution_count": 32,
   "metadata": {},
   "outputs": [
    {
     "name": "stdout",
     "output_type": "stream",
     "text": [
      "['5월27일 영화촬영으로인한 통제에 불편했어요', '실내 배드민턴장', '주슨트 프로그램에  감사드립니다 ', '강창수 해설님 짱', '강수찬직원분을 칭찬합니다', 'open시 직원 불친절', '구의문 주차장 정산소 직원 불친절', '강창수 쥬슨트님, 또 한 번 더 감사드립니다.^^', '강창수 쥬슨트 선생님  감사합니다.', '도슨트 프로그램 강추입니다.'] ['https://www.sisul.or.kr/open_content/childrenpark/qna/qnaMsgDetail.do;jsessionid=Ge9NmeCt8opHgyirvss9674FLrqhjx7KS0spUkOIVe9Vuevr7QQNximWg0u0KKaE.etisw1_servlet_user?qnaid=QNAS20220527000002&pgno=1', 'https://www.sisul.or.kr/open_content/childrenpark/qna/qnaMsgDetail.do;jsessionid=Ge9NmeCt8opHgyirvss9674FLrqhjx7KS0spUkOIVe9Vuevr7QQNximWg0u0KKaE.etisw1_servlet_user?qnaid=QNAS20220525000002&pgno=1', 'https://www.sisul.or.kr/open_content/childrenpark/qna/qnaMsgDetail.do;jsessionid=Ge9NmeCt8opHgyirvss9674FLrqhjx7KS0spUkOIVe9Vuevr7QQNximWg0u0KKaE.etisw1_servlet_user?qnaid=QNAS20220523000013&pgno=1', 'https://www.sisul.or.kr/open_content/childrenpark/qna/qnaMsgDetail.do;jsessionid=Ge9NmeCt8opHgyirvss9674FLrqhjx7KS0spUkOIVe9Vuevr7QQNximWg0u0KKaE.etisw1_servlet_user?qnaid=QNAS20220523000001&pgno=1', 'https://www.sisul.or.kr/open_content/childrenpark/qna/qnaMsgDetail.do;jsessionid=Ge9NmeCt8opHgyirvss9674FLrqhjx7KS0spUkOIVe9Vuevr7QQNximWg0u0KKaE.etisw1_servlet_user?qnaid=QNAS20220522000003&pgno=1', 'https://www.sisul.or.kr/open_content/childrenpark/qna/qnaMsgDetail.do;jsessionid=Ge9NmeCt8opHgyirvss9674FLrqhjx7KS0spUkOIVe9Vuevr7QQNximWg0u0KKaE.etisw1_servlet_user?qnaid=QNAS20220522000001&pgno=1', 'https://www.sisul.or.kr/open_content/childrenpark/qna/qnaMsgDetail.do;jsessionid=Ge9NmeCt8opHgyirvss9674FLrqhjx7KS0spUkOIVe9Vuevr7QQNximWg0u0KKaE.etisw1_servlet_user?qnaid=QNAS20220520000002&pgno=1', 'https://www.sisul.or.kr/open_content/childrenpark/qna/qnaMsgDetail.do;jsessionid=Ge9NmeCt8opHgyirvss9674FLrqhjx7KS0spUkOIVe9Vuevr7QQNximWg0u0KKaE.etisw1_servlet_user?qnaid=QNAS20220518000009&pgno=1', 'https://www.sisul.or.kr/open_content/childrenpark/qna/qnaMsgDetail.do;jsessionid=Ge9NmeCt8opHgyirvss9674FLrqhjx7KS0spUkOIVe9Vuevr7QQNximWg0u0KKaE.etisw1_servlet_user?qnaid=QNAS20220517000001&pgno=1', 'https://www.sisul.or.kr/open_content/childrenpark/qna/qnaMsgDetail.do;jsessionid=Ge9NmeCt8opHgyirvss9674FLrqhjx7KS0spUkOIVe9Vuevr7QQNximWg0u0KKaE.etisw1_servlet_user?qnaid=QNAS20220516000014&pgno=1']\n"
     ]
    }
   ],
   "source": [
    "url_head = \"https://www.sisul.or.kr\"\n",
    "url_board = url_head + \"/open_content/childrenpark/qna/qnaMsgList.do?pgno=1\"\n",
    "\n",
    "\n",
    "res = request.urlopen(url_board)\n",
    "soup = BeautifulSoup(res, \"html.parser\")\n",
    "\n",
    "selector = \"\" # 선택자를 작성해주세요\n",
    "\n",
    "titles = []\n",
    "links = []\n",
    "for a in soup.select(selector):\n",
    "    titles.append(a.text)\n",
    "    links.append(url_head + a.attrs[\"href\"])\n",
    "    \n",
    "print(titles, links)\n",
    "\n",
    "    \n",
    "    "
   ]
  },
  {
   "cell_type": "markdown",
   "metadata": {},
   "source": [
    "### 추가 내용\n",
    "\n",
    "수집된 자료를 데이터프레임으로 만들어 csv로 저장하는 것이 일반적입니다."
   ]
  },
  {
   "cell_type": "code",
   "execution_count": 8,
   "metadata": {},
   "outputs": [
    {
     "data": {
      "text/html": [
       "<div>\n",
       "<style scoped>\n",
       "    .dataframe tbody tr th:only-of-type {\n",
       "        vertical-align: middle;\n",
       "    }\n",
       "\n",
       "    .dataframe tbody tr th {\n",
       "        vertical-align: top;\n",
       "    }\n",
       "\n",
       "    .dataframe thead th {\n",
       "        text-align: right;\n",
       "    }\n",
       "</style>\n",
       "<table border=\"1\" class=\"dataframe\">\n",
       "  <thead>\n",
       "    <tr style=\"text-align: right;\">\n",
       "      <th></th>\n",
       "      <th>title</th>\n",
       "      <th>link</th>\n",
       "    </tr>\n",
       "  </thead>\n",
       "  <tbody>\n",
       "    <tr>\n",
       "      <th>0</th>\n",
       "      <td>동물들이 안타까워요......</td>\n",
       "      <td>https://www.sisul.or.kr/open_content/childrenp...</td>\n",
       "    </tr>\n",
       "    <tr>\n",
       "      <th>1</th>\n",
       "      <td>후룸라이드 개선필요</td>\n",
       "      <td>https://www.sisul.or.kr/open_content/childrenp...</td>\n",
       "    </tr>\n",
       "    <tr>\n",
       "      <th>2</th>\n",
       "      <td>놀이동산 내 사고 및 직원으로부터 아무런 도움을 받지 못한 데 대한 항의</td>\n",
       "      <td>https://www.sisul.or.kr/open_content/childrenp...</td>\n",
       "    </tr>\n",
       "    <tr>\n",
       "      <th>3</th>\n",
       "      <td>마스크 착용 필수 부탁드립니다</td>\n",
       "      <td>https://www.sisul.or.kr/open_content/childrenp...</td>\n",
       "    </tr>\n",
       "    <tr>\n",
       "      <th>4</th>\n",
       "      <td>어린이대공원 블로워 사용 시민 불편호소와 거목 전 가지 치기 (공원 방문 목적...</td>\n",
       "      <td>https://www.sisul.or.kr/open_content/childrenp...</td>\n",
       "    </tr>\n",
       "  </tbody>\n",
       "</table>\n",
       "</div>"
      ],
      "text/plain": [
       "                                            title  \\\n",
       "0                                동물들이 안타까워요......   \n",
       "1                                      후룸라이드 개선필요   \n",
       "2        놀이동산 내 사고 및 직원으로부터 아무런 도움을 받지 못한 데 대한 항의   \n",
       "3                                마스크 착용 필수 부탁드립니다   \n",
       "4  어린이대공원 블로워 사용 시민 불편호소와 거목 전 가지 치기 (공원 방문 목적...   \n",
       "\n",
       "                                                link  \n",
       "0  https://www.sisul.or.kr/open_content/childrenp...  \n",
       "1  https://www.sisul.or.kr/open_content/childrenp...  \n",
       "2  https://www.sisul.or.kr/open_content/childrenp...  \n",
       "3  https://www.sisul.or.kr/open_content/childrenp...  \n",
       "4  https://www.sisul.or.kr/open_content/childrenp...  "
      ]
     },
     "execution_count": 8,
     "metadata": {},
     "output_type": "execute_result"
    }
   ],
   "source": [
    "import pandas as pd\n",
    "\n",
    "\n",
    "board_df = pd.DataFrame({\"title\": titles, \"link\": links})\n",
    "board_df.head()"
   ]
  },
  {
   "cell_type": "code",
   "execution_count": 9,
   "metadata": {},
   "outputs": [],
   "source": [
    "board_df.to_csv(\"board.csv\", index=False)"
   ]
  }
 ],
 "metadata": {
  "kernelspec": {
   "display_name": "Python 3 (ipykernel)",
   "language": "python",
   "name": "python3"
  },
  "language_info": {
   "codemirror_mode": {
    "name": "ipython",
    "version": 3
   },
   "file_extension": ".py",
   "mimetype": "text/x-python",
   "name": "python",
   "nbconvert_exporter": "python",
   "pygments_lexer": "ipython3",
   "version": "3.9.7"
  },
  "toc": {
   "base_numbering": 1,
   "nav_menu": {},
   "number_sections": false,
   "sideBar": true,
   "skip_h1_title": false,
   "title_cell": "Table of Contents",
   "title_sidebar": "Contents",
   "toc_cell": false,
   "toc_position": {},
   "toc_section_display": true,
   "toc_window_display": false
  }
 },
 "nbformat": 4,
 "nbformat_minor": 2
}
