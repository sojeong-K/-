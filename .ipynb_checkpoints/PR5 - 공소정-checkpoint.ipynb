{
 "cells": [
  {
   "cell_type": "markdown",
   "id": "7d5ea318",
   "metadata": {},
   "source": [
    "PR5 - 공소정"
   ]
  },
  {
   "cell_type": "code",
   "execution_count": 9,
   "id": "50601a20",
   "metadata": {},
   "outputs": [
    {
     "name": "stdout",
     "output_type": "stream",
     "text": [
      "1. [2, 3]\n",
      "2. [0, 1, 1]\n"
     ]
    }
   ],
   "source": [
    "def b_test(eggs):\n",
    "        eggs.append(1)\n",
    "        eggs=[2,3]\n",
    "        print(\"1.\", eggs)\n",
    "        \n",
    "ham=[0,1]\n",
    "b_test(ham)\n",
    "print(\"2.\", ham)"
   ]
  },
  {
   "cell_type": "code",
   "execution_count": 12,
   "id": "991965ed",
   "metadata": {},
   "outputs": [
    {
     "name": "stdout",
     "output_type": "stream",
     "text": [
      "10\n",
      "In Function: 10\n",
      "In Main 10\n"
     ]
    },
    {
     "ename": "NameError",
     "evalue": "name 'y' is not defined",
     "output_type": "error",
     "traceback": [
      "\u001b[1;31m---------------------------------------------------------------------------\u001b[0m",
      "\u001b[1;31mNameError\u001b[0m                                 Traceback (most recent call last)",
      "\u001b[1;32m~\\AppData\\Local\\Temp/ipykernel_6928/620605712.py\u001b[0m in \u001b[0;36m<module>\u001b[1;34m\u001b[0m\n\u001b[0;32m      6\u001b[0m \u001b[0mtest\u001b[0m\u001b[1;33m(\u001b[0m\u001b[0mx\u001b[0m\u001b[1;33m)\u001b[0m\u001b[1;33m\u001b[0m\u001b[1;33m\u001b[0m\u001b[0m\n\u001b[0;32m      7\u001b[0m \u001b[0mprint\u001b[0m\u001b[1;33m(\u001b[0m\u001b[1;34m\"In Main\"\u001b[0m\u001b[1;33m,\u001b[0m \u001b[0mx\u001b[0m\u001b[1;33m)\u001b[0m\u001b[1;33m\u001b[0m\u001b[1;33m\u001b[0m\u001b[0m\n\u001b[1;32m----> 8\u001b[1;33m \u001b[0mprint\u001b[0m\u001b[1;33m(\u001b[0m\u001b[1;34m\"In Main\"\u001b[0m\u001b[1;33m,\u001b[0m \u001b[0my\u001b[0m\u001b[1;33m)\u001b[0m\u001b[1;33m\u001b[0m\u001b[1;33m\u001b[0m\u001b[0m\n\u001b[0m",
      "\u001b[1;31mNameError\u001b[0m: name 'y' is not defined"
     ]
    }
   ],
   "source": [
    "def test(t):\n",
    "    print(x)\n",
    "    print(\"In Function:\", t)\n",
    "\n",
    "x=10\n",
    "test(x)\n",
    "print(\"In Main\", x)\n",
    "#print(\"In Main\", y)"
   ]
  },
  {
   "cell_type": "code",
   "execution_count": 40,
   "id": "a30b81a7",
   "metadata": {},
   "outputs": [
    {
     "name": "stdout",
     "output_type": "stream",
     "text": [
      "In Main 10\n",
      "In Main 30\n"
     ]
    }
   ],
   "source": [
    "def b_test(t):\n",
    "    t=20\n",
    "    print(\"In Function:\", t)\n",
    "    x=30\n",
    "    print(\"In Function:\", x)\n",
    "\n",
    "x=10\n",
    "\n",
    "print(\"In Main\", x)\n",
    "print(\"In Main\", y)"
   ]
  },
  {
   "cell_type": "code",
   "execution_count": 26,
   "id": "e6fc2b10",
   "metadata": {},
   "outputs": [
    {
     "name": "stdout",
     "output_type": "stream",
     "text": [
      "-10\n",
      "-10\n"
     ]
    }
   ],
   "source": [
    "def c_test(x,y):\n",
    "    return x-y\n",
    "\n",
    "x=20\n",
    "y=30\n",
    "print(c_test(20,30))\n",
    "print(c_test(x=20,y=30))"
   ]
  },
  {
   "cell_type": "code",
   "execution_count": 29,
   "id": "d8f27ade",
   "metadata": {},
   "outputs": [
    {
     "name": "stdout",
     "output_type": "stream",
     "text": [
      "10\n",
      "-10\n",
      "10\n",
      "-10\n"
     ]
    }
   ],
   "source": [
    "def c_test(x,y=0):\n",
    "    return x-y\n",
    "\n",
    "print(c_test(30,20))\n",
    "print(c_test(x=20,y=30))\n",
    "print(c_test(10))\n",
    "print(c_test(10,20))"
   ]
  },
  {
   "cell_type": "code",
   "execution_count": 33,
   "id": "cd2eb180",
   "metadata": {},
   "outputs": [
    {
     "name": "stdout",
     "output_type": "stream",
     "text": [
      "1\n",
      "(2, 3, 4)\n",
      "2 3 4\n",
      "9\n",
      "1\n",
      "(2,)\n",
      "2\n",
      "2\n",
      "1\n",
      "(2, 3)\n",
      "2 3\n",
      "5\n",
      "1\n",
      "(2, 3, 4, 5, 6, 7, 8, 9)\n",
      "2 3 4 5 6 7 8 9\n",
      "44\n"
     ]
    }
   ],
   "source": [
    "def d_test(a, *args):\n",
    "    print(a)\n",
    "    print(args)\n",
    "    print(*args)\n",
    "    print(sum(args))\n",
    "    \n",
    "    \n",
    "d_test(1,2,3,4)\n",
    "d_test(1,2)\n",
    "d_test(1,2,3)\n",
    "d_test(1,2,3,4,5,6,7,8,9)"
   ]
  },
  {
   "cell_type": "code",
   "execution_count": 41,
   "id": "16771c1a",
   "metadata": {},
   "outputs": [
    {
     "name": "stdout",
     "output_type": "stream",
     "text": [
      "{'a': 1, 'b': 2, 'c': 3}\n",
      "a b c\n",
      "dict_values([1, 2, 3])\n",
      "{'x': 100, 'y': 200}\n",
      "x y\n",
      "dict_values([100, 200])\n",
      "{'k1': 10, 'k2': 30, 'k3': 40, 'k5': 50}\n",
      "k1 k2 k3 k5\n",
      "dict_values([10, 30, 40, 50])\n"
     ]
    }
   ],
   "source": [
    "def e_test(**kwargs):\n",
    "    print(kwargs)\n",
    "    print(*kwargs)\n",
    "    print(kwargs.values())\n",
    "    \n",
    "e_test(a=1, b=2, c=3)\n",
    "e_test(x=100, y=200)\n",
    "e_test(k1=10, k2=30, k3=40, k5=50)"
   ]
  },
  {
   "cell_type": "code",
   "execution_count": 45,
   "id": "463690b0",
   "metadata": {},
   "outputs": [
    {
     "name": "stdout",
     "output_type": "stream",
     "text": [
      "red,blue,green,yellow\n",
      "['red', 'blue', 'green', 'yellow']\n"
     ]
    }
   ],
   "source": [
    "co=['red','blue','green','yellow']\n",
    "result=','.join(co)\n",
    "print(result)\n",
    "result2=result.split(',')\n",
    "print(result2)"
   ]
  },
  {
   "cell_type": "code",
   "execution_count": 50,
   "id": "de975dc4",
   "metadata": {},
   "outputs": [
    {
     "name": "stdout",
     "output_type": "stream",
     "text": [
      "[-2, -1, 0, 1, 2, 3, 4, 5, 6, 7]\n"
     ]
    }
   ],
   "source": [
    "res2=[i-2 for i in range(10)]\n",
    "print(res2)"
   ]
  },
  {
   "cell_type": "code",
   "execution_count": 58,
   "id": "656831c2",
   "metadata": {},
   "outputs": [
    {
     "name": "stdout",
     "output_type": "stream",
     "text": [
      "[0, 2, 4, 6, 8]\n",
      "[0, 0, 2, 0, 4, 0, 6, 0, 8, 0]\n"
     ]
    }
   ],
   "source": [
    "res3=[i for i in range(10) if i%2==0]\n",
    "print(res3)\n",
    "\n",
    "res3_1=[i if i%2==0 else 0 for i in range(10)]\n",
    "print(res3_1)"
   ]
  },
  {
   "cell_type": "code",
   "execution_count": 67,
   "id": "2f9490bf",
   "metadata": {},
   "outputs": [
    {
     "name": "stdout",
     "output_type": "stream",
     "text": [
      "['AB', 'Ai', 'Az', 'jB', 'ji', 'jz', 'oB', 'oi', 'oz', 'uB', 'ui', 'uz']\n",
      "['HW', 'Ho', 'Hr', 'Hl', 'Hd', 'eW', 'eo', 'er', 'el', 'ed', 'lW', 'lo', 'lr', 'll', 'ld', 'lW', 'lo', 'lr', 'll', 'ld', 'oW', 'oo', 'or', 'ol', 'od']\n",
      "['HW', 'Ho', 'Hr', 'Hl', 'Hd', 'eW', 'eo', 'er', 'el', 'ed', 'lW', 'lo', 'lr', 'ld', 'lW', 'lo', 'lr', 'ld', 'oW', 'or', 'ol', 'od']\n",
      "['ll', 'll', 'oo']\n"
     ]
    }
   ],
   "source": [
    "word_1=\"Ajou\"\n",
    "word_2=\"Biz\"\n",
    "\n",
    "res4=[i+j for i in word_1 for j in word_2]\n",
    "print(res4)\n",
    "\n",
    "\n",
    "word_1=\"Hello\"\n",
    "word_2=\"World\"\n",
    "\n",
    "res4_1=[i+j for i in word_1 for j in word_2]\n",
    "print(res4_1)\n",
    "\n",
    "res4_2=[i+j for i in word_1 for j in word_2 if not(i==j)]\n",
    "print(res4_2)\n",
    "\n",
    "res4_3=[i+j for i in word_1 for j in word_2 if i==j]\n",
    "print(res4_3)"
   ]
  },
  {
   "cell_type": "code",
   "execution_count": 71,
   "id": "19401576",
   "metadata": {},
   "outputs": [
    {
     "name": "stdout",
     "output_type": "stream",
     "text": [
      "['The', 'auick', 'brown', 'fox', 'jumps', 'over', 'the', 'lazy', 'dog']\n",
      "[['The', 'THE', 'the', 3], ['auick', 'AUICK', 'auick', 5], ['brown', 'BROWN', 'brown', 5], ['fox', 'FOX', 'fox', 3], ['jumps', 'JUMPS', 'jumps', 5], ['over', 'OVER', 'over', 4], ['the', 'THE', 'the', 3], ['lazy', 'LAZY', 'lazy', 4], ['dog', 'DOG', 'dog', 3]]\n"
     ]
    }
   ],
   "source": [
    "w3='The auick brown fox jumps over the lazy dog'.split()\n",
    "print(w3)\n",
    "res5=[[w, w.upper(), w.lower(), len(w)] for w in w3]\n",
    "print(res5)"
   ]
  },
  {
   "cell_type": "code",
   "execution_count": 84,
   "id": "8cae6941",
   "metadata": {},
   "outputs": [
    {
     "name": "stdout",
     "output_type": "stream",
     "text": [
      "0:00:00.186876\n"
     ]
    }
   ],
   "source": [
    "import time\n",
    "import datetime\n",
    "\n",
    "int_max=1000\n",
    "\n",
    "vector=list(range(int_max))\n",
    "scalar=2\n",
    "\n",
    "start=time.time()\n",
    "for _ in range(int_max):\n",
    "    [scalar*value for value in range(int_max)]\n",
    "end=time.time()\n",
    "\n",
    "sec=end-start\n",
    "res6=datetime.timedelta(seconds=sec)\n",
    "print(res6)"
   ]
  },
  {
   "cell_type": "code",
   "execution_count": 85,
   "id": "16ee3ecc",
   "metadata": {},
   "outputs": [
    {
     "name": "stdout",
     "output_type": "stream",
     "text": [
      "0:00:00.252839\n"
     ]
    }
   ],
   "source": [
    "def sclar_vec(scalar,vector):\n",
    "    result=[]\n",
    "    for value in vector:\n",
    "        result.append(scalar*value)\n",
    "    return result\n",
    "\n",
    "vector=list(range(int_max))\n",
    "scalar=2\n",
    "\n",
    "start=time.time()\n",
    "for _ in range(int_max):\n",
    "    sclar_vec(scalar,vector)\n",
    "end=time.time()\n",
    "\n",
    "sec=end-start\n",
    "res7=datetime.timedelta(seconds=sec)\n",
    "print(res7)"
   ]
  },
  {
   "cell_type": "code",
   "execution_count": 83,
   "id": "0f0cbfcd",
   "metadata": {},
   "outputs": [
    {
     "name": "stdout",
     "output_type": "stream",
     "text": [
      "['AD', 'AE', 'AA', 'BD', 'BE', 'BA', 'CD', 'CE', 'CA']\n",
      "[['AD', 'BD', 'CD'], ['AE', 'BE', 'CE'], ['AA', 'BA', 'CA']]\n"
     ]
    }
   ],
   "source": [
    "case1=[\"A\",\"B\",\"C\"]\n",
    "case2=[\"D\",\"E\",\"A\"]\n",
    "\n",
    "res8=[i+j for i in case1 for j in case2]\n",
    "print(res8)\n",
    "res9=[[i+j for i in case1] for j in case2]\n",
    "print(res9)"
   ]
  }
 ],
 "metadata": {
  "kernelspec": {
   "display_name": "Python 3 (ipykernel)",
   "language": "python",
   "name": "python3"
  },
  "language_info": {
   "codemirror_mode": {
    "name": "ipython",
    "version": 3
   },
   "file_extension": ".py",
   "mimetype": "text/x-python",
   "name": "python",
   "nbconvert_exporter": "python",
   "pygments_lexer": "ipython3",
   "version": "3.9.7"
  }
 },
 "nbformat": 4,
 "nbformat_minor": 5
}
