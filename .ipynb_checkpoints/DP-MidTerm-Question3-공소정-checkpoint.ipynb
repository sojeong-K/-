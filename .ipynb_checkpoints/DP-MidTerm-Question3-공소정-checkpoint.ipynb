{
 "cells": [
  {
   "cell_type": "markdown",
   "metadata": {},
   "source": [
    "# 데이터분석 프로그래밍 중간고사\n",
    "\n",
    "#### 다음의 문제를 풀어서 .ipynb 파일과 .pdf 파일을 아주 비비에 올리세요. \n",
    "\n",
    "\n",
    "학번: 202073005\n",
    "\n",
    "이름: 공소정"
   ]
  },
  {
   "cell_type": "markdown",
   "metadata": {},
   "source": [
    "### 다음의 문제를 읽고 해당 코드를 작성하시오. (하나당 10점)\n",
    "\n",
    "#### 1. 다음 소스 코드를 완성하여 확장자가 .jpg, .gif인 이미지 파일만 출력되게 만드세요. "
   ]
  },
  {
   "cell_type": "code",
   "execution_count": 63,
   "metadata": {
    "scrolled": true
   },
   "outputs": [
    {
     "name": "stdout",
     "output_type": "stream",
     "text": [
      "['app.gif', '10.jpg', '11.gif', '2.jpg']\n"
     ]
    }
   ],
   "source": [
    "# 이 부분은 건드리지 말것\n",
    "files = ['font','jpg.xls', '2.png', 'app.gif', '1.png', '10.jpg', '11.gif', '2.jpg', '3.png', 'table.xslx', 'spec.docx']\n",
    " \n",
    "# 풀이\n",
    "a = [x for x in files if x.endswith('.jpg') or x.endswith('.gif')]\n",
    "print(a)\n"
   ]
  },
  {
   "cell_type": "markdown",
   "metadata": {},
   "source": [
    "####  2. 다음 소스 코드를 완성하여 리스트 a에 들어있는 문자열 중에서 길이가 4이상인 것들중 리스트 형태로 출력되게 만드세요(리스트 표현식 사용). 그런 후 중복된 문자열을 제거하여 한번만 출력되게 하세요 (set 사용). 결과 출력시 해당 문자열이 몇개 있는지 len() 함수를 이용하여 함께 출력해주세요."
   ]
  },
  {
   "cell_type": "code",
   "execution_count": 72,
   "metadata": {},
   "outputs": [
    {
     "name": "stdout",
     "output_type": "stream",
     "text": [
      "['alpha', 'hotel', 'echo', 'char', 'charlie', 'india', 'foxtrot', 'golf', 'bravo', 'alph', 'delta']\n",
      "11\n"
     ]
    }
   ],
   "source": [
    "# 이 부분은 건드리지 말것\n",
    "a = ['alpha', 'bravo', 'charlie', 'delta', 'echo', 'foxtrot', 'golf', 'hotel', 'india', 'al', 'alph', 'alpha', 'char', 'charlie']\n",
    "\n",
    "# 풀이\n",
    "\n",
    "b = [x for x in a if len(x) >= 4]\n",
    "b = set(b)\n",
    "c = list(b)\n",
    "d = len(c)\n",
    "print(c)\n",
    "print(d)\n",
    "\n",
    "\n"
   ]
  },
  {
   "cell_type": "markdown",
   "metadata": {},
   "source": [
    "#### 3. 다음 소스 코드를 완성하여 파일 경로에서 파일명과 파일명 바로 앞에 있는 폴더까지 포함하여 출력되게 만드세요. 단, 경로에서 폴더의 깊이가 달라지더라도 파일명만 출력할 수 있어야 합니다.  결과는 다음과 같습니다.\n",
    "\n",
    "['jykang', 'python.exe']"
   ]
  },
  {
   "cell_type": "code",
   "execution_count": 32,
   "metadata": {},
   "outputs": [
    {
     "name": "stdout",
     "output_type": "stream",
     "text": [
      "['jykang', 'python.exe']\n"
     ]
    }
   ],
   "source": [
    "# 이 부분은 건드리지 말것\n",
    "path = 'C:\\\\Users\\\\jykang\\\\python.exe'\n",
    "## 풀이\n",
    "\n",
    "x = path.split('\\\\')\n",
    "x.reverse()\n",
    "filename = x[0:2]\n",
    "filename.reverse()\n",
    "                                      \n",
    "# 이 부분은 건드리지 말것 \n",
    "print(filename)"
   ]
  },
  {
   "cell_type": "markdown",
   "metadata": {},
   "source": [
    "#### 4. 문자열을 입력받아 각 글자 중 대문자인 경우만  빈도수를 세어보시오.  (letter.isupper() 사용)"
   ]
  },
  {
   "cell_type": "code",
   "execution_count": 76,
   "metadata": {},
   "outputs": [
    {
     "name": "stdout",
     "output_type": "stream",
     "text": [
      "문자열을 입력하시오: aa BB cc dD Ee FF\n",
      "2\n"
     ]
    }
   ],
   "source": [
    "## 이 부분은 건드리지 말것 \n",
    "string=input(\"문자열을 입력하시오: \")\n",
    "countTable={}\n",
    "## 풀이\n",
    "\n",
    "letter = string.split()\n",
    "a = [x for x in letter if x.isupper()]\n",
    "print(len(a))\n"
   ]
  },
  {
   "cell_type": "markdown",
   "metadata": {},
   "source": [
    "#### 5. 문자열 안에 있는 문자의 개수, 대문자의  개수, 소문자의 개수를 계산하는 프로그램을 작성하여 보자.\n",
    "\n",
    "실행결과예\n",
    "\n",
    "<pre>\n",
    "문자열을 입력하시오: A picture is WORTH a thousand words.\n",
    "{'alphas': 29, 'uppers': 6, 'lowers': 23}\n",
    "</pre>"
   ]
  },
  {
   "cell_type": "code",
   "execution_count": 93,
   "metadata": {},
   "outputs": [
    {
     "ename": "SyntaxError",
     "evalue": "invalid syntax (Temp/ipykernel_11012/498371295.py, line 9)",
     "output_type": "error",
     "traceback": [
      "\u001b[1;36m  File \u001b[1;32m\"C:\\Users\\thwjd\\AppData\\Local\\Temp/ipykernel_11012/498371295.py\"\u001b[1;36m, line \u001b[1;32m9\u001b[0m\n\u001b[1;33m    table(\"alphas\") += 1\u001b[0m\n\u001b[1;37m    ^\u001b[0m\n\u001b[1;31mSyntaxError\u001b[0m\u001b[1;31m:\u001b[0m invalid syntax\n"
     ]
    }
   ],
   "source": [
    "## 이 부분은 건드리지 말것\n",
    "sentence=input(\"문자열을 입력하시오: \")\n",
    "table={\"alphas\":0, \"uppers\":0, \"lowers\":0}\n",
    "\n",
    "## 풀이\n",
    "\n",
    "a=[x for x in sentence\n",
    "if x.isalpha()\n",
    "    table(\"alphas\") += 1\n",
    "elif x.isuppper()\n",
    "    table(\"uppers\") += 1\n",
    "elif x.islower()\n",
    "    table(\"lowers\") += 1]\n",
    "\n",
    "\n",
    "print(table)\n",
    "    "
   ]
  },
  {
   "cell_type": "markdown",
   "metadata": {},
   "source": [
    "#### 6. text에 들어가 있는 문자들 중 모든 문자가 소문자인 'to'만 찾으면 되며 'too', 'ton', 등은 포함하지 않아야 합니다."
   ]
  },
  {
   "cell_type": "code",
   "execution_count": null,
   "metadata": {},
   "outputs": [],
   "source": [
    "text = '''the grown-ups' response, this time, was\n",
    "too advise me to lay aside my drawings of boa constrictors,\n",
    "whether from the inside or the outside, and devote myself\n",
    "instead to geography, history, arithmetic, and grammar.\n",
    "That is why, at the, age of six, I gave up what might have\n",
    "been a magnificent career as a painter. I had been disheartened\n",
    "by the failure of my Drawing Number One and my Drawing Number Two.\n",
    "Grown-ups never understand anything by themselves, and it is tiresome\n",
    "for children to be always and forever explaining things to the.'''\n",
    "cnt = 0\n",
    "\n",
    "\n",
    "\n",
    "\n",
    "print(cnt)"
   ]
  },
  {
   "cell_type": "markdown",
   "metadata": {},
   "source": [
    "#### 7. 주어진 단어의 문자열 갯수를 세어보시오. (hint: word.split() 이용, dictionary comprehension 사용)\n",
    "실행결과 예\n",
    "{'Apple': 2, 'Black': 1, 'Orange': 1, 'Pear': 1}"
   ]
  },
  {
   "cell_type": "code",
   "execution_count": 100,
   "metadata": {},
   "outputs": [
    {
     "name": "stdout",
     "output_type": "stream",
     "text": [
      "{'Apple': 2, 'Black': 1, 'Orange': 1, 'Pear': 1}\n"
     ]
    }
   ],
   "source": [
    "word = \"Apple Black Orange Apple Pear\"\n",
    "count={}\n",
    "\n",
    "a = word.split()\n",
    "\n",
    "for x in a:\n",
    "    try: count[x] += 1\n",
    "    except: count[x]=1\n",
    "print(count)\n"
   ]
  },
  {
   "cell_type": "markdown",
   "metadata": {},
   "source": [
    "#### 8. list comprehension을 사용하여 주여진 dictionary에서 email 부분만 추출하여 소문자로 변경하시오.\n",
    "hint) d.items() 대신 d.values() 사용 \n",
    "\n",
    "실행예: ['john@gmail.com', 'tom@gmail.com']"
   ]
  },
  {
   "cell_type": "code",
   "execution_count": null,
   "metadata": {},
   "outputs": [],
   "source": [
    "d = {'JOHN' : 'JOHN@GMAIL.COM', 'tom':'tom@Gmail.com'}\n",
    "\n",
    "z = \n",
    "\n",
    "\n",
    "\n",
    "\n"
   ]
  },
  {
   "cell_type": "markdown",
   "metadata": {},
   "source": [
    "#### 9. 문자열 두개를 입력받아 .split()을 이용하여 단어리스트로 만든 후 두 문자열를 zip()과 dict()를 사용하여 dictionary로 변환하시오.\n",
    "실행예\n",
    "<pre>\n",
    "문자열 두개를 입력하세요\n",
    "문자열1: kang kim park\n",
    "문자열2: 101 202 303\n",
    "{'kang': '101', 'kim': '202', 'park': '303'}\n",
    "</pre>"
   ]
  },
  {
   "cell_type": "code",
   "execution_count": 86,
   "metadata": {},
   "outputs": [
    {
     "name": "stdout",
     "output_type": "stream",
     "text": [
      "문자열1: kang kim park\n",
      "문자열2: 101 202 303\n"
     ]
    },
    {
     "data": {
      "text/plain": [
       "{'kang': '101', 'kim': '202', 'park': '303'}"
      ]
     },
     "execution_count": 86,
     "metadata": {},
     "output_type": "execute_result"
    }
   ],
   "source": [
    "\"문자열 두개를 입력하세요.\"\n",
    "\n",
    "x=input(\"문자열1: \")\n",
    "y=input(\"문자열2: \")\n",
    "\n",
    "a = x.split()\n",
    "b = y.split()\n",
    "dict(zip(a,b))\n"
   ]
  },
  {
   "cell_type": "markdown",
   "metadata": {},
   "source": [
    "#### 10. 다음의 문제를 읽고 지시대로 푸세요 (10점)\n",
    "\n",
    "##### 연락처\n",
    "- 윤승식 : 010-3348-2859\n",
    "- 허준 : 010-7708-5617\n",
    "- 신민철 : 010-4729-8241\n",
    "- 강승식: 010-2323-1122\n",
    "> ###### 요구사항\n",
    "> 1. 위에 제시된 연락처만 이용하여 적절한 자료형을 이용하여 만들어주세요.(이름 중복 등은 고려하지 않도록 합니다)\n",
    "> 2. 연락처에 기록된 전화번호 검색하는 contact_search() 함수 내부를 list comprehension 방식을 이용하여 만들어주세요. \n",
    "함수의 결과물로 전화번호를 **리턴** 할 수 있도록 해주세요\n",
    "> 3. 해당 함수를 통해 연락처를 검색할 때, 이름의 일부만 입력해도 검색이 가능하도록 해 주세요. \n",
    "\n",
    ">    *예시: 준 -> 010-7708-5617, 신민철 -> 010-4729-8241, 윤 -> 010-3348-2859*\n"
   ]
  },
  {
   "cell_type": "code",
   "execution_count": null,
   "metadata": {},
   "outputs": [],
   "source": [
    "phone = {\"윤승식\":\"010-3348-2859\", \"허준\":\"010-7708-5617\", \"신민철\":\"010-4729-8241\", \"강승식\":\"010-2323-1122\"}\n",
    "\n",
    "\n",
    "def contact_search(x,y)\n",
    "\n",
    "\n"
   ]
  },
  {
   "cell_type": "code",
   "execution_count": null,
   "metadata": {},
   "outputs": [],
   "source": [
    "print(contact_search(\"준\", phone))\n",
    "print(contact_search(\"신민철\", phone))\n",
    "print(contact_search(\"윤\", phone))"
   ]
  },
  {
   "attachments": {
    "image.png": {
     "image/png": "[encoded data removed]"
    }
   },
   "cell_type": "markdown",
   "metadata": {},
   "source": [
    "#### 11. 스키테일 암호 문제 (15점)\n",
    "\n",
    "![image.png](attachment:image.png)\n",
    "\n",
    "고대 그리스의 역사학자 플루타르크에 따르면 약 2,500년 그리스 지역의 옛 나라인 스파르타에서는 전쟁터에 나가있는 군대에 비밀메시지를 전할 때 암호를 그때 당시로서는 아무나 쉽게 암호문을 열어 볼수 없는, 아주 교묘하고도 획기적인 방법이었다. 이때 사용한 암호화방법은 스키테일(Scytale)암호라 하고 당시의 전쟁터에선 다음과 같은 방법으로 암호화하였다.\n",
    "\n",
    "1. 전쟁터에 나갈 군대와 본국에 남아있는 정부는 각자, 스키테일(Scytale)이라고 하는 굵기의 원통형 막대기를 나누어 갖는다.\n",
    "2. 비밀리에 보내야 할 메시지가 생기면, 본국 정부의 암호 담당자는 스키테일에 가느다란 양피지 리본을 위에서 아래로 감은 다음 옆으로 메시지를 적는다.\n",
    "3. 리본을 풀어내어 펼치면 메시지의 내용은 아무나 읽을 수 없게 된다..\n",
    "4. 전쟁터에 나가있는 오로지 같은 굵기의 원통막대기를 가진 사람만이 메시지를 읽을 수 있다.\n",
    "\n",
    "스키테일 암호를 만드는 방법은 간단합니다. 메시지의 간격(n)을 설정하고, 그 사이에 의미없는 문자열을 삽입하면 되는 것이죠.\n",
    "\n",
    "윤승식 연구원은 여자친구와의 비밀 메시지를 위해 메시지의 간격을 설정하고, 스키테일 암호를 이용하기로 결정하였습니다.\n",
    "\n",
    "자, 이제 윤승식 연구원을 위해 간격을 정해주면 스키테일 암호문을 만들어내는 함수 encrypt()와, 이런 암호문을 해독하는 함수 decrypt()를 작성해 봅시다\n",
    "\n",
    "> ###### 요구사항\n",
    "> 1. 문자열과, 막대기의 굵기를 입력받아 스키테일 암호문을 암호화하는 함수 encrypt(string, n)과, 스키테일 암호문을 풀어내는 함수 decrypt(string, n)을 작성하세요.\n",
    "> 2. 사이에 집어넣을 임의의 문자열은 rand_str 함수를 이용하여 생성해주세요.\n",
    "> 3. 암호화를 할 문자열과 메시지 간격을 사용자로부터 입력받으세요. (hint> 메시지 간격의 경우 int() 함수를 이용하여 숫자로 바꾸세요)\n",
    "> 4. 함수의 결과물로 string을 return해주세요.\n",
    "\n",
    "<실행예>\n",
    "<pre>\n",
    "암호화할 문자열:hello world\n",
    "메시지 간격:2\n",
    "hjgefmlsFlilozP MQwQooROryKlhjdFS\n",
    "hello world\n",
    "</pre>"
   ]
  },
  {
   "cell_type": "code",
   "execution_count": null,
   "metadata": {},
   "outputs": [],
   "source": [
    "# 이부분은 건드리지 말것, 한번 실행하고 문제 풀기\n",
    "import random\n",
    "\n",
    "character = \"abcdefghijklmnopqrstuvwxyzABCDEFGHIJKLMNOPQRSTUVWXYZ\"\n",
    "def rand_str(length, characters=character):\n",
    "    \"\"\"\n",
    "    rand_str(length, characters)\n",
    "    characters에 지정되어 있는 문자열을 임의로 추출하여 length 길이만큼 추출해줍니다.\n",
    "    characters를 지정하지 않을 시 기본값으로 영어 알파벳 대,소문자에서 임의의 문자를 추출합니다.\n",
    "    \"\"\"\n",
    "    return \"\".join(random.choices(characters, k=length))"
   ]
  },
  {
   "cell_type": "code",
   "execution_count": null,
   "metadata": {},
   "outputs": [],
   "source": [
    "rand_str(30) "
   ]
  },
  {
   "cell_type": "code",
   "execution_count": null,
   "metadata": {},
   "outputs": [],
   "source": [
    "#encrypt()\n",
    "\n",
    "\n",
    "\n",
    "\n",
    "\n",
    "\n",
    "\n",
    "#encrypt()\n",
    "\n",
    "\n",
    "\n",
    "\n",
    "\n",
    "\n"
   ]
  },
  {
   "cell_type": "code",
   "execution_count": null,
   "metadata": {},
   "outputs": [],
   "source": [
    "\n",
    "\n",
    "\n",
    "\n",
    "\n",
    "\n"
   ]
  },
  {
   "cell_type": "markdown",
   "metadata": {},
   "source": [
    "#### 12.  3행시 문제내기 (15점)\n",
    "\n",
    "예를 들어 \"강주영\"을 입력했을 때 3행시를 잘 짓는지를 테스트하는 프로그램을 작성해 보세요.\n",
    "\n",
    "강 : 강릉\n",
    "\n",
    "주 : 주민은\n",
    "\n",
    "영: 영동지방 사람입니다.\n",
    "\n",
    "\n",
    "3행시를 넣으면(적절한 구조를 생각해서 파라미터로 넣으세요) 첫글자를 확인해서 \"강주영\"이 맞는지 확인하는 check3() 함수를 만들어주세요. 강주영이 맞다면 True, 아니면 False를 반환하도록 합니다. <b>이때 삼행시를 각각 두글자 이상 만들었는지도 함께 체크해주세요.</b> 그리고 한글자만 적었을 경우에 대한 적절한 메시지, 해당 첫글자로 시작하지 않았을때의 적절한 메시지도 함께 적어주세요.\n",
    "\n",
    "**위에 있는 시 말고, 다른 시를 만들어서 검사할 수 있도록 합니다. 우리 건용이는 소중하니까요!**\n",
    "실행예\n",
    "<pre>\n",
    "강: 강릉\n",
    "주: 주민\n",
    "영: 영\n",
    "두글자 이상으로 만들어주세요\n",
    "False\n",
    "</pre>\n",
    "<pre>\n",
    "강: 강릉\n",
    "주: 민주\n",
    "해당글자로 시작해야 합니다.\n",
    "False\n",
    "</pre>\n",
    "<pre>\n",
    "강: 강릉\n",
    "주: 주민\n",
    "영: 영동지방 \n",
    "True\n",
    "</pre>"
   ]
  },
  {
   "cell_type": "code",
   "execution_count": 15,
   "metadata": {},
   "outputs": [],
   "source": [
    "def check3(txt):\n",
    "   \n",
    "\n",
    "\n",
    "\n",
    "\n",
    "\n",
    "\n"
   ]
  },
  {
   "cell_type": "code",
   "execution_count": null,
   "metadata": {},
   "outputs": [],
   "source": [
    "checking = check3(\"강주영\")\n",
    "print(checking)"
   ]
  },
  {
   "cell_type": "markdown",
   "metadata": {},
   "source": [
    "#### 13. 보너스 문제, 자신이 하고 싶은 이야기에 대해 자유롭게 아는 문법을 사용하여 프로그램을 만들어 보세요 (20점)"
   ]
  },
  {
   "cell_type": "code",
   "execution_count": 103,
   "metadata": {},
   "outputs": [
    {
     "name": "stdout",
     "output_type": "stream",
     "text": [
      "문자열을 입력하시오: PYTHON IS SO DIFFICULT\n",
      "PYTHON IS SO DIFFICULT\n"
     ]
    }
   ],
   "source": [
    "string=input(\"문자열을 입력하시오: \")\n",
    "\n",
    "letter = string.split()\n",
    "a = [x for x in letter if x.isupper()]\n",
    "print(*a)\n",
    "\n"
   ]
  }
 ],
 "metadata": {
  "kernelspec": {
   "display_name": "Python 3 (ipykernel)",
   "language": "python",
   "name": "python3"
  },
  "language_info": {
   "codemirror_mode": {
    "name": "ipython",
    "version": 3
   },
   "file_extension": ".py",
   "mimetype": "text/x-python",
   "name": "python",
   "nbconvert_exporter": "python",
   "pygments_lexer": "ipython3",
   "version": "3.9.7"
  }
 },
 "nbformat": 4,
 "nbformat_minor": 2
}
